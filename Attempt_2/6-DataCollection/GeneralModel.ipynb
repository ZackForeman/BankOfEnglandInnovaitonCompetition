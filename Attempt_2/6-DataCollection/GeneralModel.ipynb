{
 "cells": [
  {
   "cell_type": "code",
   "execution_count": 1,
   "id": "bd25c114",
   "metadata": {},
   "outputs": [],
   "source": [
    "# Import Libraries\n",
    "import numpy as np\n",
    "import pandas as pd\n",
    "import matplotlib.pyplot as plt\n",
    "from sklearn.preprocessing import MinMaxScaler\n",
    "#for deep learning model\n",
    "from keras import Sequential\n",
    "from keras.layers import Dense\n",
    "from keras.layers import LSTM\n",
    "from keras.layers import Dropout"
   ]
  },
  {
   "cell_type": "code",
   "execution_count": 2,
   "id": "dedef0a0",
   "metadata": {},
   "outputs": [
    {
     "data": {
      "text/html": [
       "<div>\n",
       "<style scoped>\n",
       "    .dataframe tbody tr th:only-of-type {\n",
       "        vertical-align: middle;\n",
       "    }\n",
       "\n",
       "    .dataframe tbody tr th {\n",
       "        vertical-align: top;\n",
       "    }\n",
       "\n",
       "    .dataframe thead th {\n",
       "        text-align: right;\n",
       "    }\n",
       "</style>\n",
       "<table border=\"1\" class=\"dataframe\">\n",
       "  <thead>\n",
       "    <tr style=\"text-align: right;\">\n",
       "      <th></th>\n",
       "      <th>CPIH</th>\n",
       "      <th>Unemployment</th>\n",
       "    </tr>\n",
       "  </thead>\n",
       "  <tbody>\n",
       "    <tr>\n",
       "      <th>0</th>\n",
       "      <td>2.6</td>\n",
       "      <td>7.5</td>\n",
       "    </tr>\n",
       "    <tr>\n",
       "      <th>1</th>\n",
       "      <td>2.4</td>\n",
       "      <td>7.3</td>\n",
       "    </tr>\n",
       "    <tr>\n",
       "      <th>2</th>\n",
       "      <td>2.2</td>\n",
       "      <td>7.2</td>\n",
       "    </tr>\n",
       "    <tr>\n",
       "      <th>3</th>\n",
       "      <td>2.1</td>\n",
       "      <td>7.2</td>\n",
       "    </tr>\n",
       "    <tr>\n",
       "      <th>4</th>\n",
       "      <td>2.1</td>\n",
       "      <td>7.2</td>\n",
       "    </tr>\n",
       "  </tbody>\n",
       "</table>\n",
       "</div>"
      ],
      "text/plain": [
       "   CPIH  Unemployment\n",
       "0   2.6           7.5\n",
       "1   2.4           7.3\n",
       "2   2.2           7.2\n",
       "3   2.1           7.2\n",
       "4   2.1           7.2"
      ]
     },
     "execution_count": 2,
     "metadata": {},
     "output_type": "execute_result"
    }
   ],
   "source": [
    "# Import Dataset and Split\n",
    "inputs = pd.read_csv(\"./InputDataSets/Unemployment.csv\")\n",
    "inputs.shape\n",
    "inputs = inputs.reset_index(drop=True)\n",
    "inputs.head()"
   ]
  },
  {
   "cell_type": "code",
   "execution_count": 3,
   "id": "83293ac2",
   "metadata": {},
   "outputs": [
    {
     "name": "stdout",
     "output_type": "stream",
     "text": [
      "Train size:  (250, 2)\n",
      "Test size: (58, 2)\n"
     ]
    }
   ],
   "source": [
    "# Creating test and train sets\n",
    "train_set = inputs[:250].values\n",
    "test_set = inputs[250:].values\n",
    "print(\"Train size: \",train_set.shape)\n",
    "print(\"Test size:\",test_set.shape)"
   ]
  },
  {
   "cell_type": "code",
   "execution_count": 4,
   "id": "4139a75a",
   "metadata": {},
   "outputs": [],
   "source": [
    "# Scale Train Dataset\n",
    "sc = MinMaxScaler()\n",
    "train_set_scaled = sc.fit_transform(train_set)"
   ]
  },
  {
   "cell_type": "code",
   "execution_count": 5,
   "id": "1d856a59",
   "metadata": {},
   "outputs": [
    {
     "data": {
      "text/plain": [
       "(238, 24, 1)"
      ]
     },
     "execution_count": 5,
     "metadata": {},
     "output_type": "execute_result"
    }
   ],
   "source": [
    "# Create Train Data\n",
    "x_train = []\n",
    "y_train = []\n",
    "for i in range(12,250):\n",
    "    x_train.append(train_set_scaled[i-12:i].flatten())\n",
    "    y_train.append(train_set_scaled[i,0])\n",
    "x_train = np.array(x_train)\n",
    "y_train = np.array(y_train)\n",
    "x_train = np.reshape(x_train,(x_train.shape[0],x_train.shape[1],1))\n",
    "x_train.shape"
   ]
  },
  {
   "cell_type": "code",
   "execution_count": 6,
   "id": "0e87896e",
   "metadata": {},
   "outputs": [
    {
     "name": "stdout",
     "output_type": "stream",
     "text": [
      "Epoch 1/50\n",
      "238/238 - 11s - loss: 0.0355 - 11s/epoch - 47ms/step\n",
      "Epoch 2/50\n",
      "238/238 - 4s - loss: 0.0313 - 4s/epoch - 17ms/step\n",
      "Epoch 3/50\n",
      "238/238 - 4s - loss: 0.0258 - 4s/epoch - 17ms/step\n",
      "Epoch 4/50\n",
      "238/238 - 4s - loss: 0.0224 - 4s/epoch - 17ms/step\n",
      "Epoch 5/50\n",
      "238/238 - 4s - loss: 0.0235 - 4s/epoch - 17ms/step\n",
      "Epoch 6/50\n",
      "238/238 - 4s - loss: 0.0173 - 4s/epoch - 18ms/step\n",
      "Epoch 7/50\n",
      "238/238 - 4s - loss: 0.0155 - 4s/epoch - 17ms/step\n",
      "Epoch 8/50\n",
      "238/238 - 4s - loss: 0.0174 - 4s/epoch - 17ms/step\n",
      "Epoch 9/50\n",
      "238/238 - 4s - loss: 0.0155 - 4s/epoch - 17ms/step\n",
      "Epoch 10/50\n",
      "238/238 - 4s - loss: 0.0163 - 4s/epoch - 17ms/step\n",
      "Epoch 11/50\n",
      "238/238 - 4s - loss: 0.0155 - 4s/epoch - 17ms/step\n",
      "Epoch 12/50\n",
      "238/238 - 4s - loss: 0.0132 - 4s/epoch - 17ms/step\n",
      "Epoch 13/50\n",
      "238/238 - 4s - loss: 0.0128 - 4s/epoch - 17ms/step\n",
      "Epoch 14/50\n",
      "238/238 - 4s - loss: 0.0136 - 4s/epoch - 17ms/step\n",
      "Epoch 15/50\n",
      "238/238 - 4s - loss: 0.0119 - 4s/epoch - 17ms/step\n",
      "Epoch 16/50\n",
      "238/238 - 4s - loss: 0.0121 - 4s/epoch - 18ms/step\n",
      "Epoch 17/50\n",
      "238/238 - 4s - loss: 0.0130 - 4s/epoch - 17ms/step\n",
      "Epoch 18/50\n",
      "238/238 - 4s - loss: 0.0136 - 4s/epoch - 17ms/step\n",
      "Epoch 19/50\n",
      "238/238 - 4s - loss: 0.0105 - 4s/epoch - 17ms/step\n",
      "Epoch 20/50\n",
      "238/238 - 4s - loss: 0.0132 - 4s/epoch - 17ms/step\n",
      "Epoch 21/50\n",
      "238/238 - 4s - loss: 0.0120 - 4s/epoch - 17ms/step\n",
      "Epoch 22/50\n",
      "238/238 - 4s - loss: 0.0122 - 4s/epoch - 17ms/step\n",
      "Epoch 23/50\n",
      "238/238 - 4s - loss: 0.0126 - 4s/epoch - 17ms/step\n",
      "Epoch 24/50\n",
      "238/238 - 4s - loss: 0.0117 - 4s/epoch - 17ms/step\n",
      "Epoch 25/50\n",
      "238/238 - 4s - loss: 0.0099 - 4s/epoch - 17ms/step\n",
      "Epoch 26/50\n",
      "238/238 - 4s - loss: 0.0096 - 4s/epoch - 17ms/step\n",
      "Epoch 27/50\n",
      "238/238 - 4s - loss: 0.0110 - 4s/epoch - 17ms/step\n",
      "Epoch 28/50\n",
      "238/238 - 4s - loss: 0.0108 - 4s/epoch - 17ms/step\n",
      "Epoch 29/50\n",
      "238/238 - 4s - loss: 0.0116 - 4s/epoch - 17ms/step\n",
      "Epoch 30/50\n",
      "238/238 - 4s - loss: 0.0099 - 4s/epoch - 17ms/step\n",
      "Epoch 31/50\n",
      "238/238 - 4s - loss: 0.0101 - 4s/epoch - 17ms/step\n",
      "Epoch 32/50\n",
      "238/238 - 4s - loss: 0.0121 - 4s/epoch - 17ms/step\n",
      "Epoch 33/50\n",
      "238/238 - 4s - loss: 0.0102 - 4s/epoch - 18ms/step\n",
      "Epoch 34/50\n",
      "238/238 - 4s - loss: 0.0103 - 4s/epoch - 16ms/step\n",
      "Epoch 35/50\n",
      "238/238 - 4s - loss: 0.0103 - 4s/epoch - 17ms/step\n",
      "Epoch 36/50\n",
      "238/238 - 4s - loss: 0.0098 - 4s/epoch - 17ms/step\n",
      "Epoch 37/50\n",
      "238/238 - 4s - loss: 0.0093 - 4s/epoch - 17ms/step\n",
      "Epoch 38/50\n",
      "238/238 - 4s - loss: 0.0082 - 4s/epoch - 17ms/step\n",
      "Epoch 39/50\n",
      "238/238 - 4s - loss: 0.0096 - 4s/epoch - 17ms/step\n",
      "Epoch 40/50\n",
      "238/238 - 4s - loss: 0.0103 - 4s/epoch - 19ms/step\n",
      "Epoch 41/50\n",
      "238/238 - 4s - loss: 0.0101 - 4s/epoch - 18ms/step\n",
      "Epoch 42/50\n",
      "238/238 - 4s - loss: 0.0090 - 4s/epoch - 17ms/step\n",
      "Epoch 43/50\n",
      "238/238 - 4s - loss: 0.0079 - 4s/epoch - 17ms/step\n",
      "Epoch 44/50\n",
      "238/238 - 4s - loss: 0.0101 - 4s/epoch - 18ms/step\n",
      "Epoch 45/50\n",
      "238/238 - 4s - loss: 0.0083 - 4s/epoch - 17ms/step\n",
      "Epoch 46/50\n",
      "238/238 - 4s - loss: 0.0095 - 4s/epoch - 17ms/step\n",
      "Epoch 47/50\n",
      "238/238 - 4s - loss: 0.0089 - 4s/epoch - 17ms/step\n",
      "Epoch 48/50\n",
      "238/238 - 4s - loss: 0.0079 - 4s/epoch - 17ms/step\n",
      "Epoch 49/50\n",
      "238/238 - 4s - loss: 0.0101 - 4s/epoch - 17ms/step\n",
      "Epoch 50/50\n",
      "238/238 - 4s - loss: 0.0084 - 4s/epoch - 17ms/step\n"
     ]
    },
    {
     "data": {
      "text/plain": [
       "<keras.callbacks.History at 0x1d77ef459c0>"
      ]
     },
     "execution_count": 6,
     "metadata": {},
     "output_type": "execute_result"
    }
   ],
   "source": [
    "# Create Model\n",
    "reg = Sequential()\n",
    "reg.add(LSTM(units = 50,return_sequences=True,input_shape=(x_train.shape[1],1)))\n",
    "reg.add(Dropout(0.2))\n",
    "reg.add(LSTM(units = 50,return_sequences=True))\n",
    "reg.add(Dropout(0.2))\n",
    "reg.add(LSTM(units = 50,return_sequences=True))\n",
    "reg.add(Dropout(0.2))\n",
    "reg.add(LSTM(units=50))\n",
    "reg.add(Dropout(0.2))\n",
    "reg.add(Dense(units=1))\n",
    "reg.compile(optimizer = 'adam',loss='mean_squared_error')\n",
    "reg.fit(x_train,y_train, epochs=50, batch_size =1,verbose=2)"
   ]
  },
  {
   "cell_type": "code",
   "execution_count": 7,
   "id": "4dc2d19d",
   "metadata": {},
   "outputs": [],
   "source": [
    "# Scale Test Dataset\n",
    "input = inputs[len(inputs)-len(test_set)-12:].values\n",
    "input.shape\n",
    "input = sc.transform(input)"
   ]
  },
  {
   "cell_type": "code",
   "execution_count": 8,
   "id": "641d1f65",
   "metadata": {},
   "outputs": [],
   "source": [
    "# Create Test Data\n",
    "x_test = []\n",
    "for i in range(12,70):\n",
    "    x_test.append(input[i-12:i].flatten())\n",
    "x_test = np.array(x_test)\n",
    "x_test = np.reshape(x_test,(x_test.shape[0],x_test.shape[1],1))"
   ]
  },
  {
   "cell_type": "code",
   "execution_count": 9,
   "id": "fac20a83",
   "metadata": {},
   "outputs": [
    {
     "name": "stdout",
     "output_type": "stream",
     "text": [
      "2/2 [==============================] - 2s 10ms/step\n"
     ]
    },
    {
     "name": "stderr",
     "output_type": "stream",
     "text": [
      "<__array_function__ internals>:180: VisibleDeprecationWarning: Creating an ndarray from ragged nested sequences (which is a list-or-tuple of lists-or-tuples-or ndarrays with different lengths or shapes) is deprecated. If you meant to do this, you must specify 'dtype=object' when creating the ndarray.\n"
     ]
    },
    {
     "data": {
      "image/png": "[encoded data removed]",
      "text/plain": [
       "<Figure size 640x480 with 1 Axes>"
      ]
     },
     "metadata": {},
     "output_type": "display_data"
    }
   ],
   "source": [
    "# Test and Readjust Test Set and Predictions\n",
    "pred = reg.predict(x_test)\n",
    "\n",
    "padded_pred = []\n",
    "for i in range(0,len(pred)):\n",
    "    padded_pred.append([pred[i],0])\n",
    "    \n",
    "padded_pred = sc.inverse_transform(padded_pred)\n",
    "\n",
    "new_pred = []\n",
    "for i in range(0,len(pred)):\n",
    "    new_pred.append(padded_pred[i][0])\n",
    "\n",
    "np.savetxt(\"./OutputDataSets/Unemployment.csv\", \n",
    "           new_pred,\n",
    "           delimiter =\", \", \n",
    "           fmt ='% s')    \n",
    "\n",
    "new_test_set = []\n",
    "for i in range(0,len(pred)):\n",
    "    new_test_set.append(test_set[i][0])\n",
    "    \n",
    "# Plot Test Data and Predicted Data\n",
    "\n",
    "plt.plot(new_test_set,color='green')\n",
    "plt.plot(new_pred,color='red')\n",
    "plt.title('cpih')\n",
    "plt.show()"
   ]
  },
  {
   "cell_type": "code",
   "execution_count": 10,
   "id": "fa9c259b",
   "metadata": {},
   "outputs": [
    {
     "name": "stdout",
     "output_type": "stream",
     "text": [
      "8/8 [==============================] - 0s 12ms/step\n"
     ]
    },
    {
     "name": "stderr",
     "output_type": "stream",
     "text": [
      "<__array_function__ internals>:180: VisibleDeprecationWarning: Creating an ndarray from ragged nested sequences (which is a list-or-tuple of lists-or-tuples-or ndarrays with different lengths or shapes) is deprecated. If you meant to do this, you must specify 'dtype=object' when creating the ndarray.\n"
     ]
    },
    {
     "data": {
      "image/png": "[encoded data removed]",
      "text/plain": [
       "<Figure size 640x480 with 1 Axes>"
      ]
     },
     "metadata": {},
     "output_type": "display_data"
    }
   ],
   "source": [
    "pred = reg.predict(x_train)\n",
    "\n",
    "padded_pred = []\n",
    "for i in range(0,len(pred)):\n",
    "    padded_pred.append([pred[i],0])\n",
    "    \n",
    "padded_pred = sc.inverse_transform(padded_pred)\n",
    "\n",
    "new_pred = []\n",
    "for i in range(0,len(pred)):\n",
    "    new_pred.append(padded_pred[i][0])\n",
    "    \n",
    "new_test_set = []\n",
    "for i in range(0,len(pred)):\n",
    "    new_test_set.append(train_set[i][0])\n",
    "\n",
    "plt.plot(new_test_set,color='green')\n",
    "plt.plot(new_pred,color='red')\n",
    "plt.title('cpih')\n",
    "plt.show()"
   ]
  },
  {
   "cell_type": "code",
   "execution_count": null,
   "id": "e2b8abc4",
   "metadata": {},
   "outputs": [],
   "source": []
  },
  {
   "cell_type": "code",
   "execution_count": null,
   "id": "84fc32c9",
   "metadata": {},
   "outputs": [],
   "source": []
  }
 ],
 "metadata": {
  "kernelspec": {
   "display_name": "Python 3 (ipykernel)",
   "language": "python",
   "name": "python3"
  },
  "language_info": {
   "codemirror_mode": {
    "name": "ipython",
    "version": 3
   },
   "file_extension": ".py",
   "mimetype": "text/x-python",
   "name": "python",
   "nbconvert_exporter": "python",
   "pygments_lexer": "ipython3",
   "version": "3.10.5"
  }
 },
 "nbformat": 4,
 "nbformat_minor": 5
}
