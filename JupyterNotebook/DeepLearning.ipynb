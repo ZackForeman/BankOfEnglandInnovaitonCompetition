{
 "cells": [
  {
   "cell_type": "code",
   "execution_count": 1,
   "id": "d3d230e9",
   "metadata": {},
   "outputs": [],
   "source": [
    "import numpy as np\n",
    "import pandas as pd\n",
    "import matplotlib.pyplot as plt\n",
    "from sklearn.preprocessing import MinMaxScaler\n",
    "#for deep learning model\n",
    "from keras import Sequential\n",
    "from keras.layers import Dense\n",
    "from keras.layers import LSTM\n",
    "from keras.layers import Dropout"
   ]
  },
  {
   "cell_type": "code",
   "execution_count": 2,
   "id": "91a38041",
   "metadata": {},
   "outputs": [
    {
     "data": {
      "text/html": [
       "<div>\n",
       "<style scoped>\n",
       "    .dataframe tbody tr th:only-of-type {\n",
       "        vertical-align: middle;\n",
       "    }\n",
       "\n",
       "    .dataframe tbody tr th {\n",
       "        vertical-align: top;\n",
       "    }\n",
       "\n",
       "    .dataframe thead th {\n",
       "        text-align: right;\n",
       "    }\n",
       "</style>\n",
       "<table border=\"1\" class=\"dataframe\">\n",
       "  <thead>\n",
       "    <tr style=\"text-align: right;\">\n",
       "      <th></th>\n",
       "      <th>Title</th>\n",
       "      <th>CPIH ANNUAL RATE 00: ALL ITEMS 2015=100</th>\n",
       "    </tr>\n",
       "  </thead>\n",
       "  <tbody>\n",
       "    <tr>\n",
       "      <th>0</th>\n",
       "      <td>1997-01-01</td>\n",
       "      <td>2.6</td>\n",
       "    </tr>\n",
       "    <tr>\n",
       "      <th>1</th>\n",
       "      <td>1997-02-01</td>\n",
       "      <td>2.4</td>\n",
       "    </tr>\n",
       "    <tr>\n",
       "      <th>2</th>\n",
       "      <td>1997-03-01</td>\n",
       "      <td>2.2</td>\n",
       "    </tr>\n",
       "    <tr>\n",
       "      <th>3</th>\n",
       "      <td>1997-04-01</td>\n",
       "      <td>2.1</td>\n",
       "    </tr>\n",
       "    <tr>\n",
       "      <th>4</th>\n",
       "      <td>1997-05-01</td>\n",
       "      <td>2.1</td>\n",
       "    </tr>\n",
       "  </tbody>\n",
       "</table>\n",
       "</div>"
      ],
      "text/plain": [
       "        Title  CPIH ANNUAL RATE 00: ALL ITEMS 2015=100\n",
       "0  1997-01-01                                      2.6\n",
       "1  1997-02-01                                      2.4\n",
       "2  1997-03-01                                      2.2\n",
       "3  1997-04-01                                      2.1\n",
       "4  1997-05-01                                      2.1"
      ]
     },
     "execution_count": 2,
     "metadata": {},
     "output_type": "execute_result"
    }
   ],
   "source": [
    "df = pd.read_csv('cpih_copy.csv')\n",
    "df.shape\n",
    "df = df.reset_index(drop=True)\n",
    "df.head()"
   ]
  },
  {
   "cell_type": "code",
   "execution_count": 3,
   "id": "580e2e33",
   "metadata": {},
   "outputs": [
    {
     "name": "stdout",
     "output_type": "stream",
     "text": [
      "Train size:  (280, 1)\n",
      "Test size: (28, 1)\n"
     ]
    }
   ],
   "source": [
    "cpih = df.iloc[:,1:2]\n",
    "train_set = cpih[:280].values\n",
    "test_set = cpih[280:].values\n",
    "print(\"Train size: \",train_set.shape)\n",
    "print(\"Test size:\",test_set.shape)"
   ]
  },
  {
   "cell_type": "code",
   "execution_count": 4,
   "id": "96b60bdc",
   "metadata": {},
   "outputs": [],
   "source": [
    "#dates = pd.to_datetime(df['Title'])\n",
    "#plt.plot_date(dates, cpih,fmt='-')"
   ]
  },
  {
   "cell_type": "code",
   "execution_count": 5,
   "id": "eae43193",
   "metadata": {},
   "outputs": [],
   "source": [
    "sc = MinMaxScaler()\n",
    "train_set_scaled = sc.fit_transform(train_set)"
   ]
  },
  {
   "cell_type": "code",
   "execution_count": 6,
   "id": "5bdc715f",
   "metadata": {},
   "outputs": [
    {
     "data": {
      "text/plain": [
       "(268, 12, 1)"
      ]
     },
     "execution_count": 6,
     "metadata": {},
     "output_type": "execute_result"
    }
   ],
   "source": [
    "x_train = []\n",
    "y_train = []\n",
    "for i in range(12,280):\n",
    "    x_train.append(train_set_scaled[i-12:i,0])\n",
    "    y_train.append(train_set_scaled[i,0])\n",
    "x_train = np.array(x_train)\n",
    "y_train = np.array(y_train)\n",
    "x_train = np.reshape(x_train,(x_train.shape[0],x_train.shape[1],1))\n",
    "x_train.shape"
   ]
  },
  {
   "cell_type": "code",
   "execution_count": 7,
   "id": "b58b4564",
   "metadata": {},
   "outputs": [
    {
     "name": "stdout",
     "output_type": "stream",
     "text": [
      "Epoch 1/100\n",
      "268/268 - 14s - loss: 0.0330 - 14s/epoch - 53ms/step\n",
      "Epoch 2/100\n",
      "268/268 - 2s - loss: 0.0253 - 2s/epoch - 9ms/step\n",
      "Epoch 3/100\n",
      "268/268 - 3s - loss: 0.0223 - 3s/epoch - 9ms/step\n",
      "Epoch 4/100\n",
      "268/268 - 3s - loss: 0.0149 - 3s/epoch - 11ms/step\n",
      "Epoch 5/100\n",
      "268/268 - 3s - loss: 0.0134 - 3s/epoch - 10ms/step\n",
      "Epoch 6/100\n",
      "268/268 - 3s - loss: 0.0123 - 3s/epoch - 10ms/step\n",
      "Epoch 7/100\n",
      "268/268 - 3s - loss: 0.0094 - 3s/epoch - 10ms/step\n",
      "Epoch 8/100\n",
      "268/268 - 2s - loss: 0.0082 - 2s/epoch - 9ms/step\n",
      "Epoch 9/100\n",
      "268/268 - 2s - loss: 0.0082 - 2s/epoch - 9ms/step\n",
      "Epoch 10/100\n",
      "268/268 - 2s - loss: 0.0070 - 2s/epoch - 9ms/step\n",
      "Epoch 11/100\n",
      "268/268 - 2s - loss: 0.0061 - 2s/epoch - 9ms/step\n",
      "Epoch 12/100\n",
      "268/268 - 2s - loss: 0.0068 - 2s/epoch - 9ms/step\n",
      "Epoch 13/100\n",
      "268/268 - 3s - loss: 0.0056 - 3s/epoch - 10ms/step\n",
      "Epoch 14/100\n",
      "268/268 - 2s - loss: 0.0069 - 2s/epoch - 9ms/step\n",
      "Epoch 15/100\n",
      "268/268 - 2s - loss: 0.0052 - 2s/epoch - 9ms/step\n",
      "Epoch 16/100\n",
      "268/268 - 3s - loss: 0.0053 - 3s/epoch - 9ms/step\n",
      "Epoch 17/100\n",
      "268/268 - 2s - loss: 0.0060 - 2s/epoch - 9ms/step\n",
      "Epoch 18/100\n",
      "268/268 - 2s - loss: 0.0057 - 2s/epoch - 9ms/step\n",
      "Epoch 19/100\n",
      "268/268 - 2s - loss: 0.0045 - 2s/epoch - 9ms/step\n",
      "Epoch 20/100\n",
      "268/268 - 2s - loss: 0.0049 - 2s/epoch - 9ms/step\n",
      "Epoch 21/100\n",
      "268/268 - 2s - loss: 0.0049 - 2s/epoch - 9ms/step\n",
      "Epoch 22/100\n",
      "268/268 - 2s - loss: 0.0051 - 2s/epoch - 9ms/step\n",
      "Epoch 23/100\n",
      "268/268 - 2s - loss: 0.0039 - 2s/epoch - 9ms/step\n",
      "Epoch 24/100\n",
      "268/268 - 2s - loss: 0.0043 - 2s/epoch - 9ms/step\n",
      "Epoch 25/100\n",
      "268/268 - 2s - loss: 0.0041 - 2s/epoch - 9ms/step\n",
      "Epoch 26/100\n",
      "268/268 - 2s - loss: 0.0054 - 2s/epoch - 9ms/step\n",
      "Epoch 27/100\n",
      "268/268 - 2s - loss: 0.0043 - 2s/epoch - 9ms/step\n",
      "Epoch 28/100\n",
      "268/268 - 2s - loss: 0.0040 - 2s/epoch - 9ms/step\n",
      "Epoch 29/100\n",
      "268/268 - 2s - loss: 0.0043 - 2s/epoch - 9ms/step\n",
      "Epoch 30/100\n",
      "268/268 - 2s - loss: 0.0042 - 2s/epoch - 9ms/step\n",
      "Epoch 31/100\n",
      "268/268 - 2s - loss: 0.0036 - 2s/epoch - 9ms/step\n",
      "Epoch 32/100\n",
      "268/268 - 2s - loss: 0.0037 - 2s/epoch - 9ms/step\n",
      "Epoch 33/100\n",
      "268/268 - 2s - loss: 0.0039 - 2s/epoch - 9ms/step\n",
      "Epoch 34/100\n",
      "268/268 - 2s - loss: 0.0041 - 2s/epoch - 9ms/step\n",
      "Epoch 35/100\n",
      "268/268 - 2s - loss: 0.0044 - 2s/epoch - 9ms/step\n",
      "Epoch 36/100\n",
      "268/268 - 2s - loss: 0.0043 - 2s/epoch - 9ms/step\n",
      "Epoch 37/100\n",
      "268/268 - 2s - loss: 0.0051 - 2s/epoch - 9ms/step\n",
      "Epoch 38/100\n",
      "268/268 - 2s - loss: 0.0041 - 2s/epoch - 9ms/step\n",
      "Epoch 39/100\n",
      "268/268 - 2s - loss: 0.0038 - 2s/epoch - 9ms/step\n",
      "Epoch 40/100\n",
      "268/268 - 2s - loss: 0.0038 - 2s/epoch - 9ms/step\n",
      "Epoch 41/100\n",
      "268/268 - 3s - loss: 0.0038 - 3s/epoch - 9ms/step\n",
      "Epoch 42/100\n",
      "268/268 - 2s - loss: 0.0033 - 2s/epoch - 9ms/step\n",
      "Epoch 43/100\n",
      "268/268 - 2s - loss: 0.0036 - 2s/epoch - 9ms/step\n",
      "Epoch 44/100\n",
      "268/268 - 2s - loss: 0.0040 - 2s/epoch - 9ms/step\n",
      "Epoch 45/100\n",
      "268/268 - 2s - loss: 0.0037 - 2s/epoch - 9ms/step\n",
      "Epoch 46/100\n",
      "268/268 - 2s - loss: 0.0033 - 2s/epoch - 9ms/step\n",
      "Epoch 47/100\n",
      "268/268 - 2s - loss: 0.0040 - 2s/epoch - 9ms/step\n",
      "Epoch 48/100\n",
      "268/268 - 2s - loss: 0.0039 - 2s/epoch - 9ms/step\n",
      "Epoch 49/100\n",
      "268/268 - 2s - loss: 0.0037 - 2s/epoch - 9ms/step\n",
      "Epoch 50/100\n",
      "268/268 - 2s - loss: 0.0035 - 2s/epoch - 9ms/step\n",
      "Epoch 51/100\n",
      "268/268 - 2s - loss: 0.0033 - 2s/epoch - 9ms/step\n",
      "Epoch 52/100\n",
      "268/268 - 3s - loss: 0.0040 - 3s/epoch - 9ms/step\n",
      "Epoch 53/100\n",
      "268/268 - 3s - loss: 0.0034 - 3s/epoch - 10ms/step\n",
      "Epoch 54/100\n",
      "268/268 - 3s - loss: 0.0039 - 3s/epoch - 10ms/step\n",
      "Epoch 55/100\n",
      "268/268 - 2s - loss: 0.0032 - 2s/epoch - 9ms/step\n",
      "Epoch 56/100\n",
      "268/268 - 3s - loss: 0.0038 - 3s/epoch - 10ms/step\n",
      "Epoch 57/100\n",
      "268/268 - 3s - loss: 0.0036 - 3s/epoch - 9ms/step\n",
      "Epoch 58/100\n",
      "268/268 - 2s - loss: 0.0030 - 2s/epoch - 9ms/step\n",
      "Epoch 59/100\n",
      "268/268 - 2s - loss: 0.0034 - 2s/epoch - 9ms/step\n",
      "Epoch 60/100\n",
      "268/268 - 2s - loss: 0.0030 - 2s/epoch - 9ms/step\n",
      "Epoch 61/100\n",
      "268/268 - 2s - loss: 0.0030 - 2s/epoch - 9ms/step\n",
      "Epoch 62/100\n",
      "268/268 - 2s - loss: 0.0040 - 2s/epoch - 9ms/step\n",
      "Epoch 63/100\n",
      "268/268 - 2s - loss: 0.0033 - 2s/epoch - 9ms/step\n",
      "Epoch 64/100\n",
      "268/268 - 2s - loss: 0.0036 - 2s/epoch - 9ms/step\n",
      "Epoch 65/100\n",
      "268/268 - 2s - loss: 0.0033 - 2s/epoch - 9ms/step\n",
      "Epoch 66/100\n",
      "268/268 - 2s - loss: 0.0033 - 2s/epoch - 9ms/step\n",
      "Epoch 67/100\n",
      "268/268 - 2s - loss: 0.0037 - 2s/epoch - 9ms/step\n",
      "Epoch 68/100\n",
      "268/268 - 2s - loss: 0.0033 - 2s/epoch - 9ms/step\n",
      "Epoch 69/100\n",
      "268/268 - 2s - loss: 0.0031 - 2s/epoch - 9ms/step\n",
      "Epoch 70/100\n",
      "268/268 - 2s - loss: 0.0031 - 2s/epoch - 9ms/step\n",
      "Epoch 71/100\n",
      "268/268 - 3s - loss: 0.0032 - 3s/epoch - 9ms/step\n",
      "Epoch 72/100\n",
      "268/268 - 2s - loss: 0.0034 - 2s/epoch - 9ms/step\n",
      "Epoch 73/100\n",
      "268/268 - 2s - loss: 0.0034 - 2s/epoch - 9ms/step\n",
      "Epoch 74/100\n",
      "268/268 - 2s - loss: 0.0034 - 2s/epoch - 9ms/step\n",
      "Epoch 75/100\n",
      "268/268 - 3s - loss: 0.0037 - 3s/epoch - 9ms/step\n",
      "Epoch 76/100\n",
      "268/268 - 3s - loss: 0.0033 - 3s/epoch - 10ms/step\n",
      "Epoch 77/100\n",
      "268/268 - 3s - loss: 0.0031 - 3s/epoch - 9ms/step\n",
      "Epoch 78/100\n",
      "268/268 - 2s - loss: 0.0032 - 2s/epoch - 9ms/step\n",
      "Epoch 79/100\n",
      "268/268 - 2s - loss: 0.0032 - 2s/epoch - 9ms/step\n",
      "Epoch 80/100\n",
      "268/268 - 2s - loss: 0.0030 - 2s/epoch - 9ms/step\n",
      "Epoch 81/100\n",
      "268/268 - 2s - loss: 0.0028 - 2s/epoch - 9ms/step\n",
      "Epoch 82/100\n",
      "268/268 - 2s - loss: 0.0034 - 2s/epoch - 9ms/step\n",
      "Epoch 83/100\n",
      "268/268 - 2s - loss: 0.0032 - 2s/epoch - 9ms/step\n",
      "Epoch 84/100\n",
      "268/268 - 2s - loss: 0.0035 - 2s/epoch - 9ms/step\n",
      "Epoch 85/100\n",
      "268/268 - 2s - loss: 0.0029 - 2s/epoch - 9ms/step\n",
      "Epoch 86/100\n",
      "268/268 - 2s - loss: 0.0031 - 2s/epoch - 9ms/step\n",
      "Epoch 87/100\n",
      "268/268 - 2s - loss: 0.0030 - 2s/epoch - 9ms/step\n",
      "Epoch 88/100\n",
      "268/268 - 2s - loss: 0.0037 - 2s/epoch - 9ms/step\n",
      "Epoch 89/100\n",
      "268/268 - 2s - loss: 0.0034 - 2s/epoch - 9ms/step\n",
      "Epoch 90/100\n",
      "268/268 - 2s - loss: 0.0033 - 2s/epoch - 9ms/step\n",
      "Epoch 91/100\n",
      "268/268 - 2s - loss: 0.0025 - 2s/epoch - 9ms/step\n",
      "Epoch 92/100\n",
      "268/268 - 2s - loss: 0.0034 - 2s/epoch - 9ms/step\n",
      "Epoch 93/100\n",
      "268/268 - 3s - loss: 0.0029 - 3s/epoch - 10ms/step\n",
      "Epoch 94/100\n",
      "268/268 - 3s - loss: 0.0033 - 3s/epoch - 9ms/step\n",
      "Epoch 95/100\n",
      "268/268 - 2s - loss: 0.0039 - 2s/epoch - 9ms/step\n",
      "Epoch 96/100\n",
      "268/268 - 2s - loss: 0.0032 - 2s/epoch - 9ms/step\n",
      "Epoch 97/100\n",
      "268/268 - 3s - loss: 0.0039 - 3s/epoch - 10ms/step\n",
      "Epoch 98/100\n",
      "268/268 - 2s - loss: 0.0031 - 2s/epoch - 9ms/step\n",
      "Epoch 99/100\n",
      "268/268 - 2s - loss: 0.0028 - 2s/epoch - 9ms/step\n",
      "Epoch 100/100\n",
      "268/268 - 2s - loss: 0.0027 - 2s/epoch - 9ms/step\n"
     ]
    },
    {
     "data": {
      "text/plain": [
       "<keras.callbacks.History at 0x27be65dde10>"
      ]
     },
     "execution_count": 7,
     "metadata": {},
     "output_type": "execute_result"
    }
   ],
   "source": [
    "reg = Sequential()\n",
    "reg.add(LSTM(units = 50,return_sequences=True,input_shape=(x_train.shape[1],1)))\n",
    "reg.add(Dropout(0.2))\n",
    "reg.add(LSTM(units = 50,return_sequences=True))\n",
    "reg.add(Dropout(0.2))\n",
    "reg.add(LSTM(units = 50,return_sequences=True))\n",
    "reg.add(Dropout(0.2))\n",
    "reg.add(LSTM(units=50))\n",
    "reg.add(Dropout(0.2))\n",
    "reg.add(Dense(units=1))\n",
    "reg.compile(optimizer = 'adam',loss='mean_squared_error')\n",
    "reg.fit(x_train,y_train, epochs=100, batch_size =1,verbose=2)"
   ]
  },
  {
   "cell_type": "code",
   "execution_count": 8,
   "id": "040c5ef4",
   "metadata": {},
   "outputs": [],
   "source": [
    "input = cpih[len(cpih)-len(test_set)-12:].values\n",
    "input.shape\n",
    "input = sc.transform(input)"
   ]
  },
  {
   "cell_type": "code",
   "execution_count": 9,
   "id": "892a6145",
   "metadata": {},
   "outputs": [
    {
     "data": {
      "text/plain": [
       "(28, 12, 1)"
      ]
     },
     "execution_count": 9,
     "metadata": {},
     "output_type": "execute_result"
    }
   ],
   "source": [
    "x_test = []\n",
    "for i in range(12,40):\n",
    "    x_test.append(input[i-12:i,0])\n",
    "x_test = np.array(x_test)\n",
    "x_test = np.reshape(x_test,(x_test.shape[0],x_test.shape[1],1))\n",
    "x_test.shape"
   ]
  },
  {
   "cell_type": "code",
   "execution_count": 10,
   "id": "0f84837f",
   "metadata": {},
   "outputs": [
    {
     "name": "stdout",
     "output_type": "stream",
     "text": [
      "1/1 [==============================] - 3s 3s/step\n"
     ]
    },
    {
     "data": {
      "image/png": "[encoded data removed]",
      "text/plain": [
       "<Figure size 640x480 with 1 Axes>"
      ]
     },
     "metadata": {},
     "output_type": "display_data"
    }
   ],
   "source": [
    "pred = reg.predict(x_test)\n",
    "pred = sc.inverse_transform(pred)\n",
    "plt.plot(test_set,color='green')\n",
    "plt.plot(pred,color='red')\n",
    "plt.title('cpih')\n",
    "plt.show()"
   ]
  },
  {
   "cell_type": "code",
   "execution_count": 11,
   "id": "b1ffbe9a",
   "metadata": {},
   "outputs": [
    {
     "name": "stdout",
     "output_type": "stream",
     "text": [
      "9/9 [==============================] - 0s 7ms/step\n"
     ]
    },
    {
     "data": {
      "image/png": "[encoded data removed]",
      "text/plain": [
       "<Figure size 640x480 with 1 Axes>"
      ]
     },
     "metadata": {},
     "output_type": "display_data"
    }
   ],
   "source": [
    "pred = reg.predict(x_train)\n",
    "pred = sc.inverse_transform(pred)\n",
    "plt.plot(train_set,color='green')\n",
    "plt.plot(pred,color='red')\n",
    "plt.title('cpih')\n",
    "plt.show()"
   ]
  },
  {
   "cell_type": "code",
   "execution_count": null,
   "id": "cfc0727b",
   "metadata": {},
   "outputs": [],
   "source": []
  }
 ],
 "metadata": {
  "kernelspec": {
   "display_name": "Python 3 (ipykernel)",
   "language": "python",
   "name": "python3"
  },
  "language_info": {
   "codemirror_mode": {
    "name": "ipython",
    "version": 3
   },
   "file_extension": ".py",
   "mimetype": "text/x-python",
   "name": "python",
   "nbconvert_exporter": "python",
   "pygments_lexer": "ipython3",
   "version": "3.10.5"
  }
 },
 "nbformat": 4,
 "nbformat_minor": 5
}
