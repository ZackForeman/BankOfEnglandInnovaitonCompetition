{
 "cells": [
  {
   "cell_type": "code",
   "execution_count": 1,
   "id": "451d41ec",
   "metadata": {},
   "outputs": [],
   "source": [
    "import numpy as np\n",
    "import pandas as pd\n",
    "import matplotlib.pyplot as plt\n",
    "from sklearn.preprocessing import MinMaxScaler\n",
    "\n",
    "import tensorflow as tf"
   ]
  },
  {
   "cell_type": "code",
   "execution_count": 2,
   "id": "992e3dc3",
   "metadata": {},
   "outputs": [
    {
     "data": {
      "text/html": [
       "<div>\n",
       "<style scoped>\n",
       "    .dataframe tbody tr th:only-of-type {\n",
       "        vertical-align: middle;\n",
       "    }\n",
       "\n",
       "    .dataframe tbody tr th {\n",
       "        vertical-align: top;\n",
       "    }\n",
       "\n",
       "    .dataframe thead th {\n",
       "        text-align: right;\n",
       "    }\n",
       "</style>\n",
       "<table border=\"1\" class=\"dataframe\">\n",
       "  <thead>\n",
       "    <tr style=\"text-align: right;\">\n",
       "      <th></th>\n",
       "      <th>GDP</th>\n",
       "      <th>CPIH</th>\n",
       "      <th>BankRate</th>\n",
       "      <th>HousePrices</th>\n",
       "      <th>Unemployment</th>\n",
       "    </tr>\n",
       "  </thead>\n",
       "  <tbody>\n",
       "    <tr>\n",
       "      <th>0</th>\n",
       "      <td>63.8</td>\n",
       "      <td>2.6</td>\n",
       "      <td>5.94</td>\n",
       "      <td>60698.40391</td>\n",
       "      <td>7.5</td>\n",
       "    </tr>\n",
       "    <tr>\n",
       "      <th>1</th>\n",
       "      <td>64.8</td>\n",
       "      <td>2.4</td>\n",
       "      <td>5.94</td>\n",
       "      <td>60698.40391</td>\n",
       "      <td>7.3</td>\n",
       "    </tr>\n",
       "    <tr>\n",
       "      <th>2</th>\n",
       "      <td>64.9</td>\n",
       "      <td>2.2</td>\n",
       "      <td>5.94</td>\n",
       "      <td>60698.40391</td>\n",
       "      <td>7.2</td>\n",
       "    </tr>\n",
       "    <tr>\n",
       "      <th>3</th>\n",
       "      <td>65.2</td>\n",
       "      <td>2.1</td>\n",
       "      <td>5.94</td>\n",
       "      <td>61946.00292</td>\n",
       "      <td>7.2</td>\n",
       "    </tr>\n",
       "    <tr>\n",
       "      <th>4</th>\n",
       "      <td>64.7</td>\n",
       "      <td>2.1</td>\n",
       "      <td>5.94</td>\n",
       "      <td>61946.00292</td>\n",
       "      <td>7.2</td>\n",
       "    </tr>\n",
       "  </tbody>\n",
       "</table>\n",
       "</div>"
      ],
      "text/plain": [
       "    GDP  CPIH  BankRate  HousePrices  Unemployment\n",
       "0  63.8   2.6      5.94  60698.40391           7.5\n",
       "1  64.8   2.4      5.94  60698.40391           7.3\n",
       "2  64.9   2.2      5.94  60698.40391           7.2\n",
       "3  65.2   2.1      5.94  61946.00292           7.2\n",
       "4  64.7   2.1      5.94  61946.00292           7.2"
      ]
     },
     "execution_count": 2,
     "metadata": {},
     "output_type": "execute_result"
    }
   ],
   "source": [
    "# Import Dataset and Split\n",
    "inputs = pd.read_csv(\"C:/Users/tiafo/Desktop/BankOfEnglandInnovaitonCompetition/JupyterNotebook/inputs.csv\")\n",
    "inputs.shape\n",
    "inputs = inputs.reset_index(drop=True)\n",
    "inputs.head()"
   ]
  },
  {
   "cell_type": "code",
   "execution_count": 3,
   "id": "aeeac467",
   "metadata": {},
   "outputs": [
    {
     "name": "stdout",
     "output_type": "stream",
     "text": [
      "Train size:  (280, 5)\n",
      "Test size: (28, 5)\n"
     ]
    }
   ],
   "source": [
    "# Creating test and train sets\n",
    "train_set = inputs[:280].values\n",
    "test_set = inputs[280:].values\n",
    "print(\"Train size: \",train_set.shape)\n",
    "print(\"Test size:\",test_set.shape)"
   ]
  },
  {
   "cell_type": "code",
   "execution_count": 4,
   "id": "f3ec93f4",
   "metadata": {},
   "outputs": [],
   "source": [
    "# Scale Train Dataset\n",
    "sc = MinMaxScaler()\n",
    "train_set_scaled = sc.fit_transform(train_set)"
   ]
  },
  {
   "cell_type": "code",
   "execution_count": 6,
   "id": "da02953f",
   "metadata": {},
   "outputs": [
    {
     "data": {
      "text/plain": [
       "(268, 60, 1)"
      ]
     },
     "execution_count": 6,
     "metadata": {},
     "output_type": "execute_result"
    }
   ],
   "source": [
    "# Create Train Data\n",
    "x_train = []\n",
    "y_train = []\n",
    "for i in range(12,280):\n",
    "    x_train.append(train_set_scaled[i-12:i].flatten())\n",
    "    y_train.append(train_set_scaled[i,1])\n",
    "x_train = np.array(x_train)\n",
    "y_train = np.array(y_train)\n",
    "x_train = np.reshape(x_train,(x_train.shape[0],x_train.shape[1],1))\n",
    "x_train.shape"
   ]
  },
  {
   "cell_type": "code",
   "execution_count": 7,
   "id": "1458e06d",
   "metadata": {},
   "outputs": [
    {
     "ename": "NameError",
     "evalue": "name 'x_new_train' is not defined",
     "output_type": "error",
     "traceback": [
      "\u001b[1;31m---------------------------------------------------------------------------\u001b[0m",
      "\u001b[1;31mNameError\u001b[0m                                 Traceback (most recent call last)",
      "Cell \u001b[1;32mIn [7], line 2\u001b[0m\n\u001b[0;32m      1\u001b[0m \u001b[38;5;66;03m# manhattan distance\u001b[39;00m\n\u001b[1;32m----> 2\u001b[0m manht_distance \u001b[38;5;241m=\u001b[39m tf\u001b[38;5;241m.\u001b[39mreduce_sum(tf\u001b[38;5;241m.\u001b[39mabs(tf\u001b[38;5;241m.\u001b[39msubtract(\u001b[43mx_new_train\u001b[49m, tf\u001b[38;5;241m.\u001b[39mexpand_dims(x_new_test, \u001b[38;5;241m1\u001b[39m))), axis\u001b[38;5;241m=\u001b[39m\u001b[38;5;241m2\u001b[39m)\n\u001b[0;32m      4\u001b[0m \u001b[38;5;66;03m# nearest k points\u001b[39;00m\n\u001b[0;32m      5\u001b[0m _, top_k_indices \u001b[38;5;241m=\u001b[39m tf\u001b[38;5;241m.\u001b[39mnn\u001b[38;5;241m.\u001b[39mtop_k(tf\u001b[38;5;241m.\u001b[39mnegative(manht_distance), k\u001b[38;5;241m=\u001b[39mk)\n",
      "\u001b[1;31mNameError\u001b[0m: name 'x_new_train' is not defined"
     ]
    }
   ],
   "source": []
  },
  {
   "cell_type": "code",
   "execution_count": null,
   "id": "c2499de4",
   "metadata": {},
   "outputs": [],
   "source": []
  }
 ],
 "metadata": {
  "kernelspec": {
   "display_name": "Python 3 (ipykernel)",
   "language": "python",
   "name": "python3"
  },
  "language_info": {
   "codemirror_mode": {
    "name": "ipython",
    "version": 3
   },
   "file_extension": ".py",
   "mimetype": "text/x-python",
   "name": "python",
   "nbconvert_exporter": "python",
   "pygments_lexer": "ipython3",
   "version": "3.10.5"
  }
 },
 "nbformat": 4,
 "nbformat_minor": 5
}
