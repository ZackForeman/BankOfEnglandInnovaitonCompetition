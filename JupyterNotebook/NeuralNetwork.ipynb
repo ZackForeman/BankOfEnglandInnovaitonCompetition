{
 "cells": [
  {
   "cell_type": "code",
   "execution_count": 9,
   "id": "815920fe",
   "metadata": {},
   "outputs": [],
   "source": [
    "# Import Libraries\n",
    "import numpy as np\n",
    "import pandas as pd\n",
    "import matplotlib.pyplot as plt\n",
    "from sklearn.preprocessing import MinMaxScaler\n",
    "#for deep learning model\n",
    "from keras import Sequential\n",
    "from keras.layers import Dense\n",
    "from keras.layers import LSTM\n",
    "from keras.layers import Dropout"
   ]
  },
  {
   "cell_type": "code",
   "execution_count": 11,
   "id": "37971aa3",
   "metadata": {},
   "outputs": [
    {
     "ename": "FileNotFoundError",
     "evalue": "[Errno 2] No such file or directory: 'C:/Users/zackf/Repos/BankOfEnglandInnovaitonCompetition/JupyterNotebook/inputs.csv'",
     "output_type": "error",
     "traceback": [
      "\u001b[1;31m---------------------------------------------------------------------------\u001b[0m",
      "\u001b[1;31mFileNotFoundError\u001b[0m                         Traceback (most recent call last)",
      "Cell \u001b[1;32mIn[11], line 2\u001b[0m\n\u001b[0;32m      1\u001b[0m \u001b[39m# Import Dataset and Split\u001b[39;00m\n\u001b[1;32m----> 2\u001b[0m inputs \u001b[39m=\u001b[39m pd\u001b[39m.\u001b[39;49mread_csv(\u001b[39m\"\u001b[39;49m\u001b[39mC:/Users/zackf/Repos/BankOfEnglandInnovaitonCompetition/JupyterNotebook/inputs.csv\u001b[39;49m\u001b[39m\"\u001b[39;49m)\n\u001b[0;32m      3\u001b[0m inputs\u001b[39m.\u001b[39mshape\n\u001b[0;32m      4\u001b[0m inputs \u001b[39m=\u001b[39m inputs\u001b[39m.\u001b[39mreset_index(drop\u001b[39m=\u001b[39m\u001b[39mTrue\u001b[39;00m)\n",
      "File \u001b[1;32m~\\AppData\\Local\\Packages\\PythonSoftwareFoundation.Python.3.11_qbz5n2kfra8p0\\LocalCache\\local-packages\\Python311\\site-packages\\pandas\\io\\parsers\\readers.py:912\u001b[0m, in \u001b[0;36mread_csv\u001b[1;34m(filepath_or_buffer, sep, delimiter, header, names, index_col, usecols, dtype, engine, converters, true_values, false_values, skipinitialspace, skiprows, skipfooter, nrows, na_values, keep_default_na, na_filter, verbose, skip_blank_lines, parse_dates, infer_datetime_format, keep_date_col, date_parser, date_format, dayfirst, cache_dates, iterator, chunksize, compression, thousands, decimal, lineterminator, quotechar, quoting, doublequote, escapechar, comment, encoding, encoding_errors, dialect, on_bad_lines, delim_whitespace, low_memory, memory_map, float_precision, storage_options, dtype_backend)\u001b[0m\n\u001b[0;32m    899\u001b[0m kwds_defaults \u001b[39m=\u001b[39m _refine_defaults_read(\n\u001b[0;32m    900\u001b[0m     dialect,\n\u001b[0;32m    901\u001b[0m     delimiter,\n\u001b[1;32m   (...)\u001b[0m\n\u001b[0;32m    908\u001b[0m     dtype_backend\u001b[39m=\u001b[39mdtype_backend,\n\u001b[0;32m    909\u001b[0m )\n\u001b[0;32m    910\u001b[0m kwds\u001b[39m.\u001b[39mupdate(kwds_defaults)\n\u001b[1;32m--> 912\u001b[0m \u001b[39mreturn\u001b[39;00m _read(filepath_or_buffer, kwds)\n",
      "File \u001b[1;32m~\\AppData\\Local\\Packages\\PythonSoftwareFoundation.Python.3.11_qbz5n2kfra8p0\\LocalCache\\local-packages\\Python311\\site-packages\\pandas\\io\\parsers\\readers.py:577\u001b[0m, in \u001b[0;36m_read\u001b[1;34m(filepath_or_buffer, kwds)\u001b[0m\n\u001b[0;32m    574\u001b[0m _validate_names(kwds\u001b[39m.\u001b[39mget(\u001b[39m\"\u001b[39m\u001b[39mnames\u001b[39m\u001b[39m\"\u001b[39m, \u001b[39mNone\u001b[39;00m))\n\u001b[0;32m    576\u001b[0m \u001b[39m# Create the parser.\u001b[39;00m\n\u001b[1;32m--> 577\u001b[0m parser \u001b[39m=\u001b[39m TextFileReader(filepath_or_buffer, \u001b[39m*\u001b[39;49m\u001b[39m*\u001b[39;49mkwds)\n\u001b[0;32m    579\u001b[0m \u001b[39mif\u001b[39;00m chunksize \u001b[39mor\u001b[39;00m iterator:\n\u001b[0;32m    580\u001b[0m     \u001b[39mreturn\u001b[39;00m parser\n",
      "File \u001b[1;32m~\\AppData\\Local\\Packages\\PythonSoftwareFoundation.Python.3.11_qbz5n2kfra8p0\\LocalCache\\local-packages\\Python311\\site-packages\\pandas\\io\\parsers\\readers.py:1407\u001b[0m, in \u001b[0;36mTextFileReader.__init__\u001b[1;34m(self, f, engine, **kwds)\u001b[0m\n\u001b[0;32m   1404\u001b[0m     \u001b[39mself\u001b[39m\u001b[39m.\u001b[39moptions[\u001b[39m\"\u001b[39m\u001b[39mhas_index_names\u001b[39m\u001b[39m\"\u001b[39m] \u001b[39m=\u001b[39m kwds[\u001b[39m\"\u001b[39m\u001b[39mhas_index_names\u001b[39m\u001b[39m\"\u001b[39m]\n\u001b[0;32m   1406\u001b[0m \u001b[39mself\u001b[39m\u001b[39m.\u001b[39mhandles: IOHandles \u001b[39m|\u001b[39m \u001b[39mNone\u001b[39;00m \u001b[39m=\u001b[39m \u001b[39mNone\u001b[39;00m\n\u001b[1;32m-> 1407\u001b[0m \u001b[39mself\u001b[39m\u001b[39m.\u001b[39m_engine \u001b[39m=\u001b[39m \u001b[39mself\u001b[39;49m\u001b[39m.\u001b[39;49m_make_engine(f, \u001b[39mself\u001b[39;49m\u001b[39m.\u001b[39;49mengine)\n",
      "File \u001b[1;32m~\\AppData\\Local\\Packages\\PythonSoftwareFoundation.Python.3.11_qbz5n2kfra8p0\\LocalCache\\local-packages\\Python311\\site-packages\\pandas\\io\\parsers\\readers.py:1661\u001b[0m, in \u001b[0;36mTextFileReader._make_engine\u001b[1;34m(self, f, engine)\u001b[0m\n\u001b[0;32m   1659\u001b[0m     \u001b[39mif\u001b[39;00m \u001b[39m\"\u001b[39m\u001b[39mb\u001b[39m\u001b[39m\"\u001b[39m \u001b[39mnot\u001b[39;00m \u001b[39min\u001b[39;00m mode:\n\u001b[0;32m   1660\u001b[0m         mode \u001b[39m+\u001b[39m\u001b[39m=\u001b[39m \u001b[39m\"\u001b[39m\u001b[39mb\u001b[39m\u001b[39m\"\u001b[39m\n\u001b[1;32m-> 1661\u001b[0m \u001b[39mself\u001b[39m\u001b[39m.\u001b[39mhandles \u001b[39m=\u001b[39m get_handle(\n\u001b[0;32m   1662\u001b[0m     f,\n\u001b[0;32m   1663\u001b[0m     mode,\n\u001b[0;32m   1664\u001b[0m     encoding\u001b[39m=\u001b[39;49m\u001b[39mself\u001b[39;49m\u001b[39m.\u001b[39;49moptions\u001b[39m.\u001b[39;49mget(\u001b[39m\"\u001b[39;49m\u001b[39mencoding\u001b[39;49m\u001b[39m\"\u001b[39;49m, \u001b[39mNone\u001b[39;49;00m),\n\u001b[0;32m   1665\u001b[0m     compression\u001b[39m=\u001b[39;49m\u001b[39mself\u001b[39;49m\u001b[39m.\u001b[39;49moptions\u001b[39m.\u001b[39;49mget(\u001b[39m\"\u001b[39;49m\u001b[39mcompression\u001b[39;49m\u001b[39m\"\u001b[39;49m, \u001b[39mNone\u001b[39;49;00m),\n\u001b[0;32m   1666\u001b[0m     memory_map\u001b[39m=\u001b[39;49m\u001b[39mself\u001b[39;49m\u001b[39m.\u001b[39;49moptions\u001b[39m.\u001b[39;49mget(\u001b[39m\"\u001b[39;49m\u001b[39mmemory_map\u001b[39;49m\u001b[39m\"\u001b[39;49m, \u001b[39mFalse\u001b[39;49;00m),\n\u001b[0;32m   1667\u001b[0m     is_text\u001b[39m=\u001b[39;49mis_text,\n\u001b[0;32m   1668\u001b[0m     errors\u001b[39m=\u001b[39;49m\u001b[39mself\u001b[39;49m\u001b[39m.\u001b[39;49moptions\u001b[39m.\u001b[39;49mget(\u001b[39m\"\u001b[39;49m\u001b[39mencoding_errors\u001b[39;49m\u001b[39m\"\u001b[39;49m, \u001b[39m\"\u001b[39;49m\u001b[39mstrict\u001b[39;49m\u001b[39m\"\u001b[39;49m),\n\u001b[0;32m   1669\u001b[0m     storage_options\u001b[39m=\u001b[39;49m\u001b[39mself\u001b[39;49m\u001b[39m.\u001b[39;49moptions\u001b[39m.\u001b[39;49mget(\u001b[39m\"\u001b[39;49m\u001b[39mstorage_options\u001b[39;49m\u001b[39m\"\u001b[39;49m, \u001b[39mNone\u001b[39;49;00m),\n\u001b[0;32m   1670\u001b[0m )\n\u001b[0;32m   1671\u001b[0m \u001b[39massert\u001b[39;00m \u001b[39mself\u001b[39m\u001b[39m.\u001b[39mhandles \u001b[39mis\u001b[39;00m \u001b[39mnot\u001b[39;00m \u001b[39mNone\u001b[39;00m\n\u001b[0;32m   1672\u001b[0m f \u001b[39m=\u001b[39m \u001b[39mself\u001b[39m\u001b[39m.\u001b[39mhandles\u001b[39m.\u001b[39mhandle\n",
      "File \u001b[1;32m~\\AppData\\Local\\Packages\\PythonSoftwareFoundation.Python.3.11_qbz5n2kfra8p0\\LocalCache\\local-packages\\Python311\\site-packages\\pandas\\io\\common.py:859\u001b[0m, in \u001b[0;36mget_handle\u001b[1;34m(path_or_buf, mode, encoding, compression, memory_map, is_text, errors, storage_options)\u001b[0m\n\u001b[0;32m    854\u001b[0m \u001b[39melif\u001b[39;00m \u001b[39misinstance\u001b[39m(handle, \u001b[39mstr\u001b[39m):\n\u001b[0;32m    855\u001b[0m     \u001b[39m# Check whether the filename is to be opened in binary mode.\u001b[39;00m\n\u001b[0;32m    856\u001b[0m     \u001b[39m# Binary mode does not support 'encoding' and 'newline'.\u001b[39;00m\n\u001b[0;32m    857\u001b[0m     \u001b[39mif\u001b[39;00m ioargs\u001b[39m.\u001b[39mencoding \u001b[39mand\u001b[39;00m \u001b[39m\"\u001b[39m\u001b[39mb\u001b[39m\u001b[39m\"\u001b[39m \u001b[39mnot\u001b[39;00m \u001b[39min\u001b[39;00m ioargs\u001b[39m.\u001b[39mmode:\n\u001b[0;32m    858\u001b[0m         \u001b[39m# Encoding\u001b[39;00m\n\u001b[1;32m--> 859\u001b[0m         handle \u001b[39m=\u001b[39m \u001b[39mopen\u001b[39;49m(\n\u001b[0;32m    860\u001b[0m             handle,\n\u001b[0;32m    861\u001b[0m             ioargs\u001b[39m.\u001b[39;49mmode,\n\u001b[0;32m    862\u001b[0m             encoding\u001b[39m=\u001b[39;49mioargs\u001b[39m.\u001b[39;49mencoding,\n\u001b[0;32m    863\u001b[0m             errors\u001b[39m=\u001b[39;49merrors,\n\u001b[0;32m    864\u001b[0m             newline\u001b[39m=\u001b[39;49m\u001b[39m\"\u001b[39;49m\u001b[39m\"\u001b[39;49m,\n\u001b[0;32m    865\u001b[0m         )\n\u001b[0;32m    866\u001b[0m     \u001b[39melse\u001b[39;00m:\n\u001b[0;32m    867\u001b[0m         \u001b[39m# Binary mode\u001b[39;00m\n\u001b[0;32m    868\u001b[0m         handle \u001b[39m=\u001b[39m \u001b[39mopen\u001b[39m(handle, ioargs\u001b[39m.\u001b[39mmode)\n",
      "\u001b[1;31mFileNotFoundError\u001b[0m: [Errno 2] No such file or directory: 'C:/Users/zackf/Repos/BankOfEnglandInnovaitonCompetition/JupyterNotebook/inputs.csv'"
     ]
    }
   ],
   "source": [
    "# Import Dataset and Split\n",
    "inputs = pd.read_csv(\"C:\\\\Users\\\\zackf\\\\Repos\\\\BankOfEnglandInnovaitonCompetition\\\\JupyterNotebook\\\\inputs.csv\")\n",
    "inputs.shape\n",
    "inputs = inputs.reset_index(drop=True)\n",
    "inputs.head()"
   ]
  },
  {
   "cell_type": "code",
   "execution_count": null,
   "id": "2b26e406",
   "metadata": {},
   "outputs": [
    {
     "name": "stdout",
     "output_type": "stream",
     "text": [
      "Train size:  (250, 7)\n",
      "Test size: (58, 7)\n"
     ]
    }
   ],
   "source": [
    "# Creating test and train sets\n",
    "train_set = inputs[:250].values\n",
    "test_set = inputs[250:].values\n",
    "print(\"Train size: \",train_set.shape)\n",
    "print(\"Test size:\",test_set.shape)"
   ]
  },
  {
   "cell_type": "code",
   "execution_count": null,
   "id": "bc7eed95",
   "metadata": {},
   "outputs": [],
   "source": [
    "# Scale Train Dataset\n",
    "sc = MinMaxScaler()\n",
    "train_set_scaled = sc.fit_transform(train_set)"
   ]
  },
  {
   "cell_type": "code",
   "execution_count": null,
   "id": "03944316",
   "metadata": {},
   "outputs": [
    {
     "data": {
      "text/plain": [
       "(238, 84, 1)"
      ]
     },
     "execution_count": 5,
     "metadata": {},
     "output_type": "execute_result"
    }
   ],
   "source": [
    "# Create Train Data\n",
    "x_train = []\n",
    "y_train = []\n",
    "for i in range(12,250):\n",
    "    x_train.append(train_set_scaled[i-12:i].flatten())\n",
    "    y_train.append(train_set_scaled[i,1])\n",
    "x_train = np.array(x_train)\n",
    "y_train = np.array(y_train)\n",
    "x_train = np.reshape(x_train,(x_train.shape[0],x_train.shape[1],1))\n",
    "x_train.shape"
   ]
  },
  {
   "cell_type": "code",
   "execution_count": null,
   "id": "443ef41e",
   "metadata": {},
   "outputs": [
    {
     "name": "stdout",
     "output_type": "stream",
     "text": [
      "Epoch 1/100\n",
      "238/238 - 18s - loss: 0.0399 - 18s/epoch - 78ms/step\n",
      "Epoch 2/100\n",
      "238/238 - 16s - loss: 0.0306 - 16s/epoch - 66ms/step\n",
      "Epoch 3/100\n",
      "238/238 - 15s - loss: 0.0293 - 15s/epoch - 64ms/step\n",
      "Epoch 4/100\n",
      "238/238 - 15s - loss: 0.0245 - 15s/epoch - 61ms/step\n",
      "Epoch 5/100\n",
      "238/238 - 16s - loss: 0.0237 - 16s/epoch - 66ms/step\n",
      "Epoch 6/100\n",
      "238/238 - 17s - loss: 0.0228 - 17s/epoch - 71ms/step\n",
      "Epoch 7/100\n",
      "238/238 - 23s - loss: 0.0239 - 23s/epoch - 98ms/step\n",
      "Epoch 8/100\n",
      "238/238 - 22s - loss: 0.0230 - 22s/epoch - 91ms/step\n",
      "Epoch 9/100\n",
      "238/238 - 19s - loss: 0.0192 - 19s/epoch - 81ms/step\n",
      "Epoch 10/100\n",
      "238/238 - 16s - loss: 0.0208 - 16s/epoch - 69ms/step\n",
      "Epoch 11/100\n",
      "238/238 - 15s - loss: 0.0188 - 15s/epoch - 63ms/step\n",
      "Epoch 12/100\n",
      "238/238 - 15s - loss: 0.0195 - 15s/epoch - 63ms/step\n",
      "Epoch 13/100\n",
      "238/238 - 15s - loss: 0.0185 - 15s/epoch - 63ms/step\n",
      "Epoch 14/100\n",
      "238/238 - 14s - loss: 0.0209 - 14s/epoch - 59ms/step\n",
      "Epoch 15/100\n",
      "238/238 - 14s - loss: 0.0174 - 14s/epoch - 59ms/step\n",
      "Epoch 16/100\n",
      "238/238 - 15s - loss: 0.0166 - 15s/epoch - 62ms/step\n",
      "Epoch 17/100\n",
      "238/238 - 15s - loss: 0.0186 - 15s/epoch - 64ms/step\n",
      "Epoch 18/100\n",
      "238/238 - 15s - loss: 0.0150 - 15s/epoch - 63ms/step\n",
      "Epoch 19/100\n",
      "238/238 - 18s - loss: 0.0156 - 18s/epoch - 76ms/step\n",
      "Epoch 20/100\n",
      "238/238 - 18s - loss: 0.0133 - 18s/epoch - 77ms/step\n",
      "Epoch 21/100\n",
      "238/238 - 18s - loss: 0.0121 - 18s/epoch - 74ms/step\n",
      "Epoch 22/100\n",
      "238/238 - 18s - loss: 0.0115 - 18s/epoch - 77ms/step\n",
      "Epoch 23/100\n",
      "238/238 - 16s - loss: 0.0099 - 16s/epoch - 67ms/step\n",
      "Epoch 24/100\n",
      "238/238 - 13s - loss: 0.0111 - 13s/epoch - 56ms/step\n",
      "Epoch 25/100\n",
      "238/238 - 13s - loss: 0.0141 - 13s/epoch - 56ms/step\n",
      "Epoch 26/100\n",
      "238/238 - 13s - loss: 0.0093 - 13s/epoch - 56ms/step\n",
      "Epoch 27/100\n",
      "238/238 - 14s - loss: 0.0096 - 14s/epoch - 58ms/step\n",
      "Epoch 28/100\n",
      "238/238 - 15s - loss: 0.0125 - 15s/epoch - 65ms/step\n",
      "Epoch 29/100\n",
      "238/238 - 14s - loss: 0.0092 - 14s/epoch - 58ms/step\n",
      "Epoch 30/100\n",
      "238/238 - 14s - loss: 0.0090 - 14s/epoch - 59ms/step\n",
      "Epoch 31/100\n",
      "238/238 - 14s - loss: 0.0094 - 14s/epoch - 59ms/step\n",
      "Epoch 32/100\n",
      "238/238 - 15s - loss: 0.0102 - 15s/epoch - 63ms/step\n",
      "Epoch 33/100\n",
      "238/238 - 14s - loss: 0.0089 - 14s/epoch - 58ms/step\n",
      "Epoch 34/100\n",
      "238/238 - 14s - loss: 0.0099 - 14s/epoch - 59ms/step\n",
      "Epoch 35/100\n",
      "238/238 - 14s - loss: 0.0084 - 14s/epoch - 59ms/step\n",
      "Epoch 36/100\n",
      "238/238 - 14s - loss: 0.0102 - 14s/epoch - 58ms/step\n",
      "Epoch 37/100\n",
      "238/238 - 14s - loss: 0.0088 - 14s/epoch - 58ms/step\n",
      "Epoch 38/100\n",
      "238/238 - 14s - loss: 0.0084 - 14s/epoch - 58ms/step\n",
      "Epoch 39/100\n",
      "238/238 - 14s - loss: 0.0080 - 14s/epoch - 58ms/step\n",
      "Epoch 40/100\n",
      "238/238 - 17s - loss: 0.0076 - 17s/epoch - 70ms/step\n",
      "Epoch 41/100\n",
      "238/238 - 16s - loss: 0.0086 - 16s/epoch - 66ms/step\n",
      "Epoch 42/100\n",
      "238/238 - 16s - loss: 0.0095 - 16s/epoch - 66ms/step\n",
      "Epoch 43/100\n",
      "238/238 - 16s - loss: 0.0079 - 16s/epoch - 67ms/step\n",
      "Epoch 44/100\n",
      "238/238 - 16s - loss: 0.0077 - 16s/epoch - 65ms/step\n",
      "Epoch 45/100\n",
      "238/238 - 16s - loss: 0.0074 - 16s/epoch - 67ms/step\n",
      "Epoch 46/100\n",
      "238/238 - 17s - loss: 0.0058 - 17s/epoch - 70ms/step\n",
      "Epoch 47/100\n",
      "238/238 - 16s - loss: 0.0068 - 16s/epoch - 66ms/step\n",
      "Epoch 48/100\n",
      "238/238 - 17s - loss: 0.0062 - 17s/epoch - 71ms/step\n",
      "Epoch 49/100\n",
      "238/238 - 16s - loss: 0.0075 - 16s/epoch - 67ms/step\n",
      "Epoch 50/100\n",
      "238/238 - 16s - loss: 0.0072 - 16s/epoch - 65ms/step\n",
      "Epoch 51/100\n",
      "238/238 - 16s - loss: 0.0060 - 16s/epoch - 68ms/step\n",
      "Epoch 52/100\n",
      "238/238 - 17s - loss: 0.0059 - 17s/epoch - 71ms/step\n",
      "Epoch 53/100\n",
      "238/238 - 16s - loss: 0.0059 - 16s/epoch - 69ms/step\n",
      "Epoch 54/100\n",
      "238/238 - 17s - loss: 0.0058 - 17s/epoch - 73ms/step\n",
      "Epoch 55/100\n",
      "238/238 - 20s - loss: 0.0058 - 20s/epoch - 84ms/step\n",
      "Epoch 56/100\n",
      "238/238 - 17s - loss: 0.0060 - 17s/epoch - 71ms/step\n",
      "Epoch 57/100\n",
      "238/238 - 17s - loss: 0.0069 - 17s/epoch - 71ms/step\n",
      "Epoch 58/100\n",
      "238/238 - 18s - loss: 0.0055 - 18s/epoch - 77ms/step\n",
      "Epoch 59/100\n",
      "238/238 - 18s - loss: 0.0048 - 18s/epoch - 75ms/step\n",
      "Epoch 60/100\n",
      "238/238 - 20s - loss: 0.0062 - 20s/epoch - 83ms/step\n",
      "Epoch 61/100\n",
      "238/238 - 19s - loss: 0.0057 - 19s/epoch - 82ms/step\n",
      "Epoch 62/100\n",
      "238/238 - 24s - loss: 0.0046 - 24s/epoch - 103ms/step\n",
      "Epoch 63/100\n",
      "238/238 - 21s - loss: 0.0061 - 21s/epoch - 88ms/step\n",
      "Epoch 64/100\n",
      "238/238 - 16s - loss: 0.0055 - 16s/epoch - 67ms/step\n",
      "Epoch 65/100\n",
      "238/238 - 16s - loss: 0.0065 - 16s/epoch - 67ms/step\n",
      "Epoch 66/100\n",
      "238/238 - 17s - loss: 0.0048 - 17s/epoch - 71ms/step\n",
      "Epoch 67/100\n",
      "238/238 - 16s - loss: 0.0045 - 16s/epoch - 65ms/step\n",
      "Epoch 68/100\n",
      "238/238 - 16s - loss: 0.0047 - 16s/epoch - 66ms/step\n",
      "Epoch 69/100\n",
      "238/238 - 15s - loss: 0.0050 - 15s/epoch - 61ms/step\n",
      "Epoch 70/100\n",
      "238/238 - 14s - loss: 0.0054 - 14s/epoch - 57ms/step\n",
      "Epoch 71/100\n",
      "238/238 - 13s - loss: 0.0047 - 13s/epoch - 55ms/step\n",
      "Epoch 72/100\n",
      "238/238 - 13s - loss: 0.0044 - 13s/epoch - 54ms/step\n",
      "Epoch 73/100\n",
      "238/238 - 13s - loss: 0.0051 - 13s/epoch - 53ms/step\n",
      "Epoch 74/100\n",
      "238/238 - 13s - loss: 0.0050 - 13s/epoch - 54ms/step\n",
      "Epoch 75/100\n",
      "238/238 - 13s - loss: 0.0054 - 13s/epoch - 53ms/step\n",
      "Epoch 76/100\n",
      "238/238 - 13s - loss: 0.0043 - 13s/epoch - 54ms/step\n",
      "Epoch 77/100\n",
      "238/238 - 13s - loss: 0.0048 - 13s/epoch - 54ms/step\n",
      "Epoch 78/100\n",
      "238/238 - 12s - loss: 0.0044 - 12s/epoch - 51ms/step\n",
      "Epoch 79/100\n",
      "238/238 - 13s - loss: 0.0047 - 13s/epoch - 53ms/step\n",
      "Epoch 80/100\n",
      "238/238 - 13s - loss: 0.0041 - 13s/epoch - 54ms/step\n",
      "Epoch 81/100\n",
      "238/238 - 13s - loss: 0.0043 - 13s/epoch - 53ms/step\n",
      "Epoch 82/100\n",
      "238/238 - 13s - loss: 0.0044 - 13s/epoch - 53ms/step\n",
      "Epoch 83/100\n",
      "238/238 - 13s - loss: 0.0040 - 13s/epoch - 54ms/step\n",
      "Epoch 84/100\n",
      "238/238 - 13s - loss: 0.0042 - 13s/epoch - 54ms/step\n",
      "Epoch 85/100\n",
      "238/238 - 12s - loss: 0.0044 - 12s/epoch - 52ms/step\n",
      "Epoch 86/100\n",
      "238/238 - 13s - loss: 0.0047 - 13s/epoch - 54ms/step\n",
      "Epoch 87/100\n",
      "238/238 - 12s - loss: 0.0045 - 12s/epoch - 51ms/step\n",
      "Epoch 88/100\n",
      "238/238 - 12s - loss: 0.0042 - 12s/epoch - 51ms/step\n",
      "Epoch 89/100\n",
      "238/238 - 13s - loss: 0.0050 - 13s/epoch - 55ms/step\n",
      "Epoch 90/100\n",
      "238/238 - 13s - loss: 0.0043 - 13s/epoch - 54ms/step\n",
      "Epoch 91/100\n",
      "238/238 - 13s - loss: 0.0063 - 13s/epoch - 55ms/step\n",
      "Epoch 92/100\n",
      "238/238 - 14s - loss: 0.0033 - 14s/epoch - 57ms/step\n",
      "Epoch 93/100\n",
      "238/238 - 13s - loss: 0.0035 - 13s/epoch - 53ms/step\n",
      "Epoch 94/100\n",
      "238/238 - 13s - loss: 0.0038 - 13s/epoch - 54ms/step\n",
      "Epoch 95/100\n",
      "238/238 - 13s - loss: 0.0047 - 13s/epoch - 54ms/step\n",
      "Epoch 96/100\n",
      "238/238 - 13s - loss: 0.0044 - 13s/epoch - 54ms/step\n",
      "Epoch 97/100\n",
      "238/238 - 12s - loss: 0.0052 - 12s/epoch - 52ms/step\n",
      "Epoch 98/100\n",
      "238/238 - 13s - loss: 0.0050 - 13s/epoch - 54ms/step\n",
      "Epoch 99/100\n",
      "238/238 - 13s - loss: 0.0044 - 13s/epoch - 55ms/step\n",
      "Epoch 100/100\n",
      "238/238 - 13s - loss: 0.0037 - 13s/epoch - 56ms/step\n"
     ]
    },
    {
     "data": {
      "text/plain": [
       "<keras.callbacks.History at 0x14254e60d60>"
      ]
     },
     "execution_count": 6,
     "metadata": {},
     "output_type": "execute_result"
    }
   ],
   "source": [
    "# Create Model\n",
    "reg = Sequential()\n",
    "reg.add(LSTM(units = 50,return_sequences=True,input_shape=(x_train.shape[1],1)))\n",
    "reg.add(Dropout(0.2))\n",
    "reg.add(LSTM(units = 50,return_sequences=True))\n",
    "reg.add(Dropout(0.2))\n",
    "reg.add(LSTM(units = 50,return_sequences=True))\n",
    "reg.add(Dropout(0.2))\n",
    "reg.add(LSTM(units=50))\n",
    "reg.add(Dropout(0.2))\n",
    "reg.add(Dense(units=1))\n",
    "reg.compile(optimizer = 'adam',loss='mean_squared_error')\n",
    "reg.fit(x_train,y_train, epochs=100, batch_size =1,verbose=2)"
   ]
  },
  {
   "cell_type": "code",
   "execution_count": null,
   "id": "75531cfb",
   "metadata": {
    "scrolled": true
   },
   "outputs": [],
   "source": [
    "# Scale Test Dataset\n",
    "input = inputs[len(inputs)-len(test_set)-12:].values\n",
    "input.shape\n",
    "input = sc.transform(input)"
   ]
  },
  {
   "cell_type": "code",
   "execution_count": null,
   "id": "388f635c",
   "metadata": {},
   "outputs": [],
   "source": [
    "# Create Test Data\n",
    "x_test = []\n",
    "for i in range(12,70):\n",
    "    x_test.append(input[i-12:i].flatten())\n",
    "x_test = np.array(x_test)\n",
    "x_test = np.reshape(x_test,(x_test.shape[0],x_test.shape[1],1))"
   ]
  },
  {
   "cell_type": "code",
   "execution_count": null,
   "id": "29e71d55",
   "metadata": {},
   "outputs": [
    {
     "name": "stdout",
     "output_type": "stream",
     "text": [
      "2/2 [==============================] - 2s 45ms/step\n"
     ]
    },
    {
     "name": "stderr",
     "output_type": "stream",
     "text": [
      "<__array_function__ internals>:180: VisibleDeprecationWarning: Creating an ndarray from ragged nested sequences (which is a list-or-tuple of lists-or-tuples-or ndarrays with different lengths or shapes) is deprecated. If you meant to do this, you must specify 'dtype=object' when creating the ndarray.\n"
     ]
    },
    {
     "data": {
      "image/png": "[encoded data removed]",
      "text/plain": [
       "<Figure size 640x480 with 1 Axes>"
      ]
     },
     "metadata": {},
     "output_type": "display_data"
    }
   ],
   "source": [
    "# Test and Readjust Test Set and Predictions\n",
    "pred = reg.predict(x_test)\n",
    "\n",
    "padded_pred = []\n",
    "for i in range(0,len(pred)):\n",
    "    padded_pred.append([0,pred[i],0,0,0,0,0])\n",
    "    \n",
    "padded_pred = sc.inverse_transform(padded_pred)\n",
    "\n",
    "new_pred = []\n",
    "for i in range(0,len(pred)):\n",
    "    new_pred.append(padded_pred[i][1])\n",
    "    \n",
    "new_test_set = []\n",
    "for i in range(0,len(pred)):\n",
    "    new_test_set.append(test_set[i][1])\n",
    "    \n",
    "# Plot Test Data and Predicted Data\n",
    "\n",
    "plt.plot(new_test_set,color='green')\n",
    "plt.plot(new_pred,color='red')\n",
    "plt.title('cpih')\n",
    "plt.show()"
   ]
  },
  {
   "cell_type": "code",
   "execution_count": null,
   "id": "869777f9",
   "metadata": {},
   "outputs": [
    {
     "name": "stdout",
     "output_type": "stream",
     "text": [
      "8/8 [==============================] - 0s 33ms/step\n"
     ]
    },
    {
     "name": "stderr",
     "output_type": "stream",
     "text": [
      "<__array_function__ internals>:180: VisibleDeprecationWarning: Creating an ndarray from ragged nested sequences (which is a list-or-tuple of lists-or-tuples-or ndarrays with different lengths or shapes) is deprecated. If you meant to do this, you must specify 'dtype=object' when creating the ndarray.\n"
     ]
    },
    {
     "data": {
      "image/png": "[encoded data removed]",
      "text/plain": [
       "<Figure size 640x480 with 1 Axes>"
      ]
     },
     "metadata": {},
     "output_type": "display_data"
    }
   ],
   "source": [
    "pred = reg.predict(x_train)\n",
    "\n",
    "padded_pred = []\n",
    "for i in range(0,len(pred)):\n",
    "    padded_pred.append([0,pred[i],0,0,0,0,0])\n",
    "    \n",
    "padded_pred = sc.inverse_transform(padded_pred)\n",
    "\n",
    "new_pred = []\n",
    "for i in range(0,len(pred)):\n",
    "    new_pred.append(padded_pred[i][1])\n",
    "    \n",
    "new_test_set = []\n",
    "for i in range(0,len(pred)):\n",
    "    new_test_set.append(train_set[i][1])\n",
    "\n",
    "plt.plot(new_test_set,color='green')\n",
    "plt.plot(new_pred,color='red')\n",
    "plt.title('cpih')\n",
    "plt.show()"
   ]
  },
  {
   "cell_type": "code",
   "execution_count": null,
   "id": "a11eb9c7",
   "metadata": {},
   "outputs": [],
   "source": []
  },
  {
   "cell_type": "code",
   "execution_count": null,
   "id": "e4644b06",
   "metadata": {},
   "outputs": [],
   "source": []
  },
  {
   "cell_type": "code",
   "execution_count": null,
   "id": "01c11c60",
   "metadata": {},
   "outputs": [],
   "source": []
  }
 ],
 "metadata": {
  "kernelspec": {
   "display_name": "Python 3 (ipykernel)",
   "language": "python",
   "name": "python3"
  },
  "language_info": {
   "codemirror_mode": {
    "name": "ipython",
    "version": 3
   },
   "file_extension": ".py",
   "mimetype": "text/x-python",
   "name": "python",
   "nbconvert_exporter": "python",
   "pygments_lexer": "ipython3",
   "version": "3.11.2"
  }
 },
 "nbformat": 4,
 "nbformat_minor": 5
}
