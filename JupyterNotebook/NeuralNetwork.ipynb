{
 "cells": [
  {
   "cell_type": "code",
   "execution_count": 1,
   "id": "815920fe",
   "metadata": {},
   "outputs": [
    {
     "name": "stdout",
     "output_type": "stream",
     "text": [
      "Imports Completed\n"
     ]
    }
   ],
   "source": [
    "# Imports // use https://pub.towardsai.net/predict-the-stock-trend-using-deep-learning-5a4b7df1d152\n",
    "\n",
    "import tensorflow as tf\n",
    "import pandas as pd\n",
    "import numpy as np\n",
    "import matplotlib.pyplot as plt\n",
    "from tensorflow import keras\n",
    "import sklearn\n",
    "from sklearn.model_selection import train_test_split\n",
    "\n",
    "print(\"Imports Completed\")"
   ]
  },
  {
   "cell_type": "code",
   "execution_count": 2,
   "id": "37971aa3",
   "metadata": {},
   "outputs": [
    {
     "name": "stdout",
     "output_type": "stream",
     "text": [
      "Datasets Loaded and table split\n"
     ]
    }
   ],
   "source": [
    "# Import Dataset and Split\n",
    "inputs = pd.read_csv(\"C:/Users/tiafo/Desktop/BankOfEnglandInnovaitonCompetition/JupyterNotebook/inputs.csv\")\n",
    "outputs = pd.read_csv(\"C:/Users/tiafo/Desktop/BankOfEnglandInnovaitonCompetition/JupyterNotebook/outputs.csv\")\n",
    "\n",
    "inputs_features_names = ['GDP','CPIH','BankRate','HousePrices','Unemployment']\n",
    "inputs_features = inputs[inputs_features_names]\n",
    "tf.convert_to_tensor(inputs_features)\n",
    "\n",
    "outputs_features_names = ['CPIH']\n",
    "outputs_features = outputs[outputs_features_names]\n",
    "tf.convert_to_tensor(outputs_features)\n",
    "\n",
    "print(\"Datasets Loaded and table split\")"
   ]
  },
  {
   "cell_type": "code",
   "execution_count": 3,
   "id": "2b26e406",
   "metadata": {},
   "outputs": [
    {
     "name": "stdout",
     "output_type": "stream",
     "text": [
      "Epoch 1/15\n",
      "308/308 [==============================] - 1s 2ms/step - loss: -702900.1250 - accuracy: 0.0195\n",
      "Epoch 2/15\n",
      "308/308 [==============================] - 0s 1ms/step - loss: -19785606.0000 - accuracy: 0.0195\n",
      "Epoch 3/15\n",
      "308/308 [==============================] - 0s 1ms/step - loss: -100691632.0000 - accuracy: 0.0195\n",
      "Epoch 4/15\n",
      "308/308 [==============================] - 0s 1ms/step - loss: -314496000.0000 - accuracy: 0.0195\n",
      "Epoch 5/15\n",
      "308/308 [==============================] - 1s 2ms/step - loss: -771288192.0000 - accuracy: 0.0195\n",
      "Epoch 6/15\n",
      "308/308 [==============================] - 0s 1ms/step - loss: -1648113536.0000 - accuracy: 0.0195\n",
      "Epoch 7/15\n",
      "308/308 [==============================] - 0s 1ms/step - loss: -3028661504.0000 - accuracy: 0.0195\n",
      "Epoch 8/15\n",
      "308/308 [==============================] - 1s 2ms/step - loss: -4974685184.0000 - accuracy: 0.0195\n",
      "Epoch 9/15\n",
      "308/308 [==============================] - 0s 2ms/step - loss: -7677314048.0000 - accuracy: 0.0195\n",
      "Epoch 10/15\n",
      "308/308 [==============================] - 1s 2ms/step - loss: -11178704896.0000 - accuracy: 0.0195\n",
      "Epoch 11/15\n",
      "308/308 [==============================] - 1s 2ms/step - loss: -15604300800.0000 - accuracy: 0.0195\n",
      "Epoch 12/15\n",
      "308/308 [==============================] - 0s 1ms/step - loss: -21035317248.0000 - accuracy: 0.0195\n",
      "Epoch 13/15\n",
      "308/308 [==============================] - 0s 1ms/step - loss: -27680663552.0000 - accuracy: 0.0195\n",
      "Epoch 14/15\n",
      "308/308 [==============================] - 0s 1ms/step - loss: -35736702976.0000 - accuracy: 0.0195\n",
      "Epoch 15/15\n",
      "308/308 [==============================] - 0s 2ms/step - loss: -44987224064.0000 - accuracy: 0.0195\n"
     ]
    },
    {
     "data": {
      "text/plain": [
       "<keras.callbacks.History at 0x2607f99ccd0>"
      ]
     },
     "execution_count": 3,
     "metadata": {},
     "output_type": "execute_result"
    }
   ],
   "source": [
    "# Create Model\n",
    "def get_basic_model():\n",
    "    model = tf.keras.Sequential([\n",
    "        tf.keras.layers.Dense(20, activation='relu'),\n",
    "        tf.keras.layers.Dense(20, activation='relu'),\n",
    "        tf.keras.layers.Dense(20, activation='relu'),\n",
    "        tf.keras.layers.Dense(1)\n",
    "    ])\n",
    "\n",
    "    model.compile(\n",
    "        optimizer='adam',\n",
    "        loss=tf.keras.losses.BinaryCrossentropy(from_logits=True),\n",
    "        metrics=['accuracy'])\n",
    "    return model\n",
    "\n",
    "model = get_basic_model()\n",
    "model.fit(inputs_features, outputs_features, epochs=15, batch_size=1)"
   ]
  },
  {
   "cell_type": "code",
   "execution_count": 4,
   "id": "bc7eed95",
   "metadata": {},
   "outputs": [
    {
     "name": "stdout",
     "output_type": "stream",
     "text": [
      "10/10 [==============================] - 0s 1ms/step\n"
     ]
    }
   ],
   "source": [
    "np.savetxt(\"C:/Users/tiafo/Desktop/BankOfEnglandInnovaitonCompetition/JupyterNotebook/processed.csv\",model.predict(inputs_features),delimiter=\",\")"
   ]
  },
  {
   "cell_type": "code",
   "execution_count": 5,
   "id": "03944316",
   "metadata": {},
   "outputs": [
    {
     "data": {
      "text/html": [
       "<div>\n",
       "<style scoped>\n",
       "    .dataframe tbody tr th:only-of-type {\n",
       "        vertical-align: middle;\n",
       "    }\n",
       "\n",
       "    .dataframe tbody tr th {\n",
       "        vertical-align: top;\n",
       "    }\n",
       "\n",
       "    .dataframe thead th {\n",
       "        text-align: right;\n",
       "    }\n",
       "</style>\n",
       "<table border=\"1\" class=\"dataframe\">\n",
       "  <thead>\n",
       "    <tr style=\"text-align: right;\">\n",
       "      <th></th>\n",
       "      <th>GDP</th>\n",
       "      <th>CPIH</th>\n",
       "      <th>BankRate</th>\n",
       "      <th>HousePrices</th>\n",
       "      <th>Unemployment</th>\n",
       "    </tr>\n",
       "  </thead>\n",
       "  <tbody>\n",
       "    <tr>\n",
       "      <th>0</th>\n",
       "      <td>63.8</td>\n",
       "      <td>2.6</td>\n",
       "      <td>5.94</td>\n",
       "      <td>60698.40391</td>\n",
       "      <td>7.5</td>\n",
       "    </tr>\n",
       "    <tr>\n",
       "      <th>1</th>\n",
       "      <td>64.8</td>\n",
       "      <td>2.4</td>\n",
       "      <td>5.94</td>\n",
       "      <td>60698.40391</td>\n",
       "      <td>7.3</td>\n",
       "    </tr>\n",
       "    <tr>\n",
       "      <th>2</th>\n",
       "      <td>64.9</td>\n",
       "      <td>2.2</td>\n",
       "      <td>5.94</td>\n",
       "      <td>60698.40391</td>\n",
       "      <td>7.2</td>\n",
       "    </tr>\n",
       "    <tr>\n",
       "      <th>3</th>\n",
       "      <td>65.2</td>\n",
       "      <td>2.1</td>\n",
       "      <td>5.94</td>\n",
       "      <td>61946.00292</td>\n",
       "      <td>7.2</td>\n",
       "    </tr>\n",
       "    <tr>\n",
       "      <th>4</th>\n",
       "      <td>64.7</td>\n",
       "      <td>2.1</td>\n",
       "      <td>5.94</td>\n",
       "      <td>61946.00292</td>\n",
       "      <td>7.2</td>\n",
       "    </tr>\n",
       "    <tr>\n",
       "      <th>...</th>\n",
       "      <td>...</td>\n",
       "      <td>...</td>\n",
       "      <td>...</td>\n",
       "      <td>...</td>\n",
       "      <td>...</td>\n",
       "    </tr>\n",
       "    <tr>\n",
       "      <th>303</th>\n",
       "      <td>100.5</td>\n",
       "      <td>7.8</td>\n",
       "      <td>0.75</td>\n",
       "      <td>280991.65680</td>\n",
       "      <td>3.8</td>\n",
       "    </tr>\n",
       "    <tr>\n",
       "      <th>304</th>\n",
       "      <td>101.0</td>\n",
       "      <td>7.9</td>\n",
       "      <td>0.75</td>\n",
       "      <td>283488.09330</td>\n",
       "      <td>3.8</td>\n",
       "    </tr>\n",
       "    <tr>\n",
       "      <th>305</th>\n",
       "      <td>100.4</td>\n",
       "      <td>8.2</td>\n",
       "      <td>1.00</td>\n",
       "      <td>287166.18870</td>\n",
       "      <td>3.6</td>\n",
       "    </tr>\n",
       "    <tr>\n",
       "      <th>306</th>\n",
       "      <td>100.7</td>\n",
       "      <td>8.8</td>\n",
       "      <td>1.25</td>\n",
       "      <td>293323.72160</td>\n",
       "      <td>3.5</td>\n",
       "    </tr>\n",
       "    <tr>\n",
       "      <th>307</th>\n",
       "      <td>100.6</td>\n",
       "      <td>8.6</td>\n",
       "      <td>1.25</td>\n",
       "      <td>295903.20880</td>\n",
       "      <td>3.6</td>\n",
       "    </tr>\n",
       "  </tbody>\n",
       "</table>\n",
       "<p>308 rows × 5 columns</p>\n",
       "</div>"
      ],
      "text/plain": [
       "       GDP  CPIH  BankRate   HousePrices  Unemployment\n",
       "0     63.8   2.6      5.94   60698.40391           7.5\n",
       "1     64.8   2.4      5.94   60698.40391           7.3\n",
       "2     64.9   2.2      5.94   60698.40391           7.2\n",
       "3     65.2   2.1      5.94   61946.00292           7.2\n",
       "4     64.7   2.1      5.94   61946.00292           7.2\n",
       "..     ...   ...       ...           ...           ...\n",
       "303  100.5   7.8      0.75  280991.65680           3.8\n",
       "304  101.0   7.9      0.75  283488.09330           3.8\n",
       "305  100.4   8.2      1.00  287166.18870           3.6\n",
       "306  100.7   8.8      1.25  293323.72160           3.5\n",
       "307  100.6   8.6      1.25  295903.20880           3.6\n",
       "\n",
       "[308 rows x 5 columns]"
      ]
     },
     "execution_count": 5,
     "metadata": {},
     "output_type": "execute_result"
    }
   ],
   "source": [
    "inputs_features"
   ]
  },
  {
   "cell_type": "code",
   "execution_count": 6,
   "id": "443ef41e",
   "metadata": {},
   "outputs": [
    {
     "name": "stdout",
     "output_type": "stream",
     "text": [
      "10/10 [==============================] - 0s 1ms/step\n"
     ]
    },
    {
     "data": {
      "image/png": "[encoded data removed]",
      "text/plain": [
       "<Figure size 640x480 with 1 Axes>"
      ]
     },
     "metadata": {},
     "output_type": "display_data"
    }
   ],
   "source": [
    "plt.plot(outputs_features)\n",
    "plt.plot(model.predict(inputs_features))\n",
    "plt.show()"
   ]
  },
  {
   "cell_type": "code",
   "execution_count": null,
   "id": "75531cfb",
   "metadata": {
    "scrolled": true
   },
   "outputs": [],
   "source": []
  },
  {
   "cell_type": "code",
   "execution_count": null,
   "id": "388f635c",
   "metadata": {},
   "outputs": [],
   "source": []
  },
  {
   "cell_type": "code",
   "execution_count": null,
   "id": "29e71d55",
   "metadata": {},
   "outputs": [],
   "source": []
  },
  {
   "cell_type": "code",
   "execution_count": null,
   "id": "869777f9",
   "metadata": {},
   "outputs": [],
   "source": []
  },
  {
   "cell_type": "code",
   "execution_count": null,
   "id": "a11eb9c7",
   "metadata": {},
   "outputs": [],
   "source": []
  },
  {
   "cell_type": "code",
   "execution_count": null,
   "id": "e4644b06",
   "metadata": {},
   "outputs": [],
   "source": []
  },
  {
   "cell_type": "code",
   "execution_count": null,
   "id": "01c11c60",
   "metadata": {},
   "outputs": [],
   "source": []
  }
 ],
 "metadata": {
  "kernelspec": {
   "display_name": "Python 3 (ipykernel)",
   "language": "python",
   "name": "python3"
  },
  "language_info": {
   "codemirror_mode": {
    "name": "ipython",
    "version": 3
   },
   "file_extension": ".py",
   "mimetype": "text/x-python",
   "name": "python",
   "nbconvert_exporter": "python",
   "pygments_lexer": "ipython3",
   "version": "3.10.5"
  }
 },
 "nbformat": 4,
 "nbformat_minor": 5
}
