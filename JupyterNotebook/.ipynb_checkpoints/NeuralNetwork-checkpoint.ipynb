{
 "cells": [
  {
   "cell_type": "code",
   "execution_count": 1,
   "id": "815920fe",
   "metadata": {},
   "outputs": [],
   "source": [
    "# Import Libraries\n",
    "import numpy as np\n",
    "import pandas as pd\n",
    "import matplotlib.pyplot as plt\n",
    "from sklearn.preprocessing import MinMaxScaler\n",
    "#for deep learning model\n",
    "from keras import Sequential\n",
    "from keras.layers import Dense\n",
    "from keras.layers import LSTM\n",
    "from keras.layers import Dropout"
   ]
  },
  {
   "cell_type": "code",
   "execution_count": 2,
   "id": "37971aa3",
   "metadata": {},
   "outputs": [
    {
     "data": {
      "text/html": [
       "<div>\n",
       "<style scoped>\n",
       "    .dataframe tbody tr th:only-of-type {\n",
       "        vertical-align: middle;\n",
       "    }\n",
       "\n",
       "    .dataframe tbody tr th {\n",
       "        vertical-align: top;\n",
       "    }\n",
       "\n",
       "    .dataframe thead th {\n",
       "        text-align: right;\n",
       "    }\n",
       "</style>\n",
       "<table border=\"1\" class=\"dataframe\">\n",
       "  <thead>\n",
       "    <tr style=\"text-align: right;\">\n",
       "      <th></th>\n",
       "      <th>GDP</th>\n",
       "      <th>CPIH</th>\n",
       "      <th>BankRate</th>\n",
       "      <th>HousePrices</th>\n",
       "      <th>Unemployment</th>\n",
       "    </tr>\n",
       "  </thead>\n",
       "  <tbody>\n",
       "    <tr>\n",
       "      <th>0</th>\n",
       "      <td>63.8</td>\n",
       "      <td>2.6</td>\n",
       "      <td>5.94</td>\n",
       "      <td>60698.40391</td>\n",
       "      <td>7.5</td>\n",
       "    </tr>\n",
       "    <tr>\n",
       "      <th>1</th>\n",
       "      <td>64.8</td>\n",
       "      <td>2.4</td>\n",
       "      <td>5.94</td>\n",
       "      <td>60698.40391</td>\n",
       "      <td>7.3</td>\n",
       "    </tr>\n",
       "    <tr>\n",
       "      <th>2</th>\n",
       "      <td>64.9</td>\n",
       "      <td>2.2</td>\n",
       "      <td>5.94</td>\n",
       "      <td>60698.40391</td>\n",
       "      <td>7.2</td>\n",
       "    </tr>\n",
       "    <tr>\n",
       "      <th>3</th>\n",
       "      <td>65.2</td>\n",
       "      <td>2.1</td>\n",
       "      <td>5.94</td>\n",
       "      <td>61946.00292</td>\n",
       "      <td>7.2</td>\n",
       "    </tr>\n",
       "    <tr>\n",
       "      <th>4</th>\n",
       "      <td>64.7</td>\n",
       "      <td>2.1</td>\n",
       "      <td>5.94</td>\n",
       "      <td>61946.00292</td>\n",
       "      <td>7.2</td>\n",
       "    </tr>\n",
       "  </tbody>\n",
       "</table>\n",
       "</div>"
      ],
      "text/plain": [
       "    GDP  CPIH  BankRate  HousePrices  Unemployment\n",
       "0  63.8   2.6      5.94  60698.40391           7.5\n",
       "1  64.8   2.4      5.94  60698.40391           7.3\n",
       "2  64.9   2.2      5.94  60698.40391           7.2\n",
       "3  65.2   2.1      5.94  61946.00292           7.2\n",
       "4  64.7   2.1      5.94  61946.00292           7.2"
      ]
     },
     "execution_count": 2,
     "metadata": {},
     "output_type": "execute_result"
    }
   ],
   "source": [
    "# Import Dataset and Split\n",
    "inputs = pd.read_csv(\"C:/Users/tiafo/Desktop/BankOfEnglandInnovaitonCompetition/JupyterNotebook/inputs.csv\")\n",
    "inputs.shape\n",
    "inputs = inputs.reset_index(drop=True)\n",
    "inputs.head()"
   ]
  },
  {
   "cell_type": "code",
   "execution_count": 3,
   "id": "2b26e406",
   "metadata": {},
   "outputs": [
    {
     "name": "stdout",
     "output_type": "stream",
     "text": [
      "Train size:  (280, 5)\n",
      "Test size: (28, 5)\n"
     ]
    }
   ],
   "source": [
    "# Creating test and train sets\n",
    "train_set = inputs[:280].values\n",
    "test_set = inputs[280:].values\n",
    "print(\"Train size: \",train_set.shape)\n",
    "print(\"Test size:\",test_set.shape)"
   ]
  },
  {
   "cell_type": "code",
   "execution_count": 4,
   "id": "bc7eed95",
   "metadata": {},
   "outputs": [],
   "source": [
    "sc = MinMaxScaler()\n",
    "train_set_scaled = sc.fit_transform(train_set)"
   ]
  },
  {
   "cell_type": "code",
   "execution_count": 5,
   "id": "03944316",
   "metadata": {},
   "outputs": [
    {
     "data": {
      "text/plain": [
       "(268, 60, 1)"
      ]
     },
     "execution_count": 5,
     "metadata": {},
     "output_type": "execute_result"
    }
   ],
   "source": [
    "x_train = []\n",
    "y_train = []\n",
    "for i in range(12,280):\n",
    "    x_train.append(train_set_scaled[i-12:i].flatten())\n",
    "    y_train.append(train_set_scaled[i,1])\n",
    "x_train = np.array(x_train)\n",
    "y_train = np.array(y_train)\n",
    "x_train = np.reshape(x_train,(x_train.shape[0],x_train.shape[1],1))\n",
    "x_train.shape"
   ]
  },
  {
   "cell_type": "code",
   "execution_count": 6,
   "id": "443ef41e",
   "metadata": {},
   "outputs": [
    {
     "name": "stdout",
     "output_type": "stream",
     "text": [
      "Epoch 1/100\n",
      "268/268 - 17s - loss: 0.0312 - 17s/epoch - 63ms/step\n",
      "Epoch 2/100\n",
      "268/268 - 10s - loss: 0.0233 - 10s/epoch - 36ms/step\n",
      "Epoch 3/100\n",
      "268/268 - 10s - loss: 0.0231 - 10s/epoch - 36ms/step\n",
      "Epoch 4/100\n",
      "268/268 - 9s - loss: 0.0178 - 9s/epoch - 34ms/step\n",
      "Epoch 5/100\n",
      "268/268 - 9s - loss: 0.0174 - 9s/epoch - 34ms/step\n",
      "Epoch 6/100\n",
      "268/268 - 9s - loss: 0.0167 - 9s/epoch - 33ms/step\n",
      "Epoch 7/100\n",
      "268/268 - 9s - loss: 0.0171 - 9s/epoch - 33ms/step\n",
      "Epoch 8/100\n",
      "268/268 - 9s - loss: 0.0158 - 9s/epoch - 33ms/step\n",
      "Epoch 9/100\n",
      "268/268 - 9s - loss: 0.0153 - 9s/epoch - 33ms/step\n",
      "Epoch 10/100\n",
      "268/268 - 9s - loss: 0.0156 - 9s/epoch - 33ms/step\n",
      "Epoch 11/100\n",
      "268/268 - 9s - loss: 0.0155 - 9s/epoch - 33ms/step\n",
      "Epoch 12/100\n",
      "268/268 - 9s - loss: 0.0164 - 9s/epoch - 33ms/step\n",
      "Epoch 13/100\n",
      "268/268 - 9s - loss: 0.0141 - 9s/epoch - 33ms/step\n",
      "Epoch 14/100\n",
      "268/268 - 9s - loss: 0.0153 - 9s/epoch - 33ms/step\n",
      "Epoch 15/100\n",
      "268/268 - 9s - loss: 0.0147 - 9s/epoch - 33ms/step\n",
      "Epoch 16/100\n",
      "268/268 - 9s - loss: 0.0135 - 9s/epoch - 33ms/step\n",
      "Epoch 17/100\n",
      "268/268 - 9s - loss: 0.0138 - 9s/epoch - 33ms/step\n",
      "Epoch 18/100\n",
      "268/268 - 9s - loss: 0.0122 - 9s/epoch - 34ms/step\n",
      "Epoch 19/100\n",
      "268/268 - 9s - loss: 0.0115 - 9s/epoch - 34ms/step\n",
      "Epoch 20/100\n",
      "268/268 - 9s - loss: 0.0123 - 9s/epoch - 33ms/step\n",
      "Epoch 21/100\n",
      "268/268 - 9s - loss: 0.0093 - 9s/epoch - 33ms/step\n",
      "Epoch 22/100\n",
      "268/268 - 9s - loss: 0.0102 - 9s/epoch - 33ms/step\n",
      "Epoch 23/100\n",
      "268/268 - 9s - loss: 0.0094 - 9s/epoch - 34ms/step\n",
      "Epoch 24/100\n",
      "268/268 - 9s - loss: 0.0100 - 9s/epoch - 33ms/step\n",
      "Epoch 25/100\n",
      "268/268 - 9s - loss: 0.0087 - 9s/epoch - 33ms/step\n",
      "Epoch 26/100\n",
      "268/268 - 9s - loss: 0.0108 - 9s/epoch - 33ms/step\n",
      "Epoch 27/100\n",
      "268/268 - 9s - loss: 0.0083 - 9s/epoch - 34ms/step\n",
      "Epoch 28/100\n",
      "268/268 - 9s - loss: 0.0094 - 9s/epoch - 33ms/step\n",
      "Epoch 29/100\n",
      "268/268 - 9s - loss: 0.0091 - 9s/epoch - 34ms/step\n",
      "Epoch 30/100\n",
      "268/268 - 9s - loss: 0.0091 - 9s/epoch - 33ms/step\n",
      "Epoch 31/100\n",
      "268/268 - 9s - loss: 0.0088 - 9s/epoch - 33ms/step\n",
      "Epoch 32/100\n",
      "268/268 - 9s - loss: 0.0091 - 9s/epoch - 34ms/step\n",
      "Epoch 33/100\n",
      "268/268 - 9s - loss: 0.0066 - 9s/epoch - 33ms/step\n",
      "Epoch 34/100\n",
      "268/268 - 9s - loss: 0.0083 - 9s/epoch - 33ms/step\n",
      "Epoch 35/100\n",
      "268/268 - 9s - loss: 0.0082 - 9s/epoch - 33ms/step\n",
      "Epoch 36/100\n",
      "268/268 - 9s - loss: 0.0076 - 9s/epoch - 33ms/step\n",
      "Epoch 37/100\n",
      "268/268 - 9s - loss: 0.0075 - 9s/epoch - 33ms/step\n",
      "Epoch 38/100\n",
      "268/268 - 9s - loss: 0.0073 - 9s/epoch - 33ms/step\n",
      "Epoch 39/100\n",
      "268/268 - 9s - loss: 0.0072 - 9s/epoch - 33ms/step\n",
      "Epoch 40/100\n",
      "268/268 - 9s - loss: 0.0072 - 9s/epoch - 33ms/step\n",
      "Epoch 41/100\n",
      "268/268 - 9s - loss: 0.0066 - 9s/epoch - 33ms/step\n",
      "Epoch 42/100\n",
      "268/268 - 9s - loss: 0.0053 - 9s/epoch - 33ms/step\n",
      "Epoch 43/100\n",
      "268/268 - 9s - loss: 0.0081 - 9s/epoch - 34ms/step\n",
      "Epoch 44/100\n",
      "268/268 - 9s - loss: 0.0060 - 9s/epoch - 33ms/step\n",
      "Epoch 45/100\n",
      "268/268 - 9s - loss: 0.0063 - 9s/epoch - 34ms/step\n",
      "Epoch 46/100\n",
      "268/268 - 9s - loss: 0.0067 - 9s/epoch - 33ms/step\n",
      "Epoch 47/100\n",
      "268/268 - 9s - loss: 0.0061 - 9s/epoch - 34ms/step\n",
      "Epoch 48/100\n",
      "268/268 - 9s - loss: 0.0067 - 9s/epoch - 34ms/step\n",
      "Epoch 49/100\n",
      "268/268 - 9s - loss: 0.0065 - 9s/epoch - 34ms/step\n",
      "Epoch 50/100\n",
      "268/268 - 9s - loss: 0.0071 - 9s/epoch - 33ms/step\n",
      "Epoch 51/100\n",
      "268/268 - 9s - loss: 0.0064 - 9s/epoch - 35ms/step\n",
      "Epoch 52/100\n",
      "268/268 - 9s - loss: 0.0060 - 9s/epoch - 33ms/step\n",
      "Epoch 53/100\n",
      "268/268 - 9s - loss: 0.0056 - 9s/epoch - 33ms/step\n",
      "Epoch 54/100\n",
      "268/268 - 9s - loss: 0.0054 - 9s/epoch - 33ms/step\n",
      "Epoch 55/100\n",
      "268/268 - 9s - loss: 0.0052 - 9s/epoch - 33ms/step\n",
      "Epoch 56/100\n",
      "268/268 - 9s - loss: 0.0057 - 9s/epoch - 33ms/step\n",
      "Epoch 57/100\n",
      "268/268 - 9s - loss: 0.0063 - 9s/epoch - 33ms/step\n",
      "Epoch 58/100\n",
      "268/268 - 9s - loss: 0.0053 - 9s/epoch - 33ms/step\n",
      "Epoch 59/100\n",
      "268/268 - 9s - loss: 0.0061 - 9s/epoch - 33ms/step\n",
      "Epoch 60/100\n",
      "268/268 - 9s - loss: 0.0051 - 9s/epoch - 33ms/step\n",
      "Epoch 61/100\n",
      "268/268 - 9s - loss: 0.0053 - 9s/epoch - 33ms/step\n",
      "Epoch 62/100\n",
      "268/268 - 9s - loss: 0.0059 - 9s/epoch - 33ms/step\n",
      "Epoch 63/100\n",
      "268/268 - 9s - loss: 0.0046 - 9s/epoch - 33ms/step\n",
      "Epoch 64/100\n",
      "268/268 - 9s - loss: 0.0048 - 9s/epoch - 35ms/step\n",
      "Epoch 65/100\n",
      "268/268 - 9s - loss: 0.0052 - 9s/epoch - 33ms/step\n",
      "Epoch 66/100\n",
      "268/268 - 9s - loss: 0.0056 - 9s/epoch - 33ms/step\n",
      "Epoch 67/100\n",
      "268/268 - 9s - loss: 0.0061 - 9s/epoch - 33ms/step\n",
      "Epoch 68/100\n",
      "268/268 - 9s - loss: 0.0051 - 9s/epoch - 33ms/step\n",
      "Epoch 69/100\n",
      "268/268 - 9s - loss: 0.0046 - 9s/epoch - 33ms/step\n",
      "Epoch 70/100\n",
      "268/268 - 9s - loss: 0.0051 - 9s/epoch - 33ms/step\n",
      "Epoch 71/100\n",
      "268/268 - 9s - loss: 0.0048 - 9s/epoch - 33ms/step\n",
      "Epoch 72/100\n",
      "268/268 - 9s - loss: 0.0050 - 9s/epoch - 33ms/step\n",
      "Epoch 73/100\n",
      "268/268 - 9s - loss: 0.0053 - 9s/epoch - 33ms/step\n",
      "Epoch 74/100\n",
      "268/268 - 9s - loss: 0.0045 - 9s/epoch - 33ms/step\n",
      "Epoch 75/100\n",
      "268/268 - 9s - loss: 0.0049 - 9s/epoch - 34ms/step\n",
      "Epoch 76/100\n",
      "268/268 - 9s - loss: 0.0046 - 9s/epoch - 33ms/step\n",
      "Epoch 77/100\n",
      "268/268 - 9s - loss: 0.0044 - 9s/epoch - 34ms/step\n",
      "Epoch 78/100\n",
      "268/268 - 9s - loss: 0.0060 - 9s/epoch - 33ms/step\n",
      "Epoch 79/100\n",
      "268/268 - 9s - loss: 0.0052 - 9s/epoch - 33ms/step\n",
      "Epoch 80/100\n",
      "268/268 - 9s - loss: 0.0045 - 9s/epoch - 33ms/step\n",
      "Epoch 81/100\n",
      "268/268 - 9s - loss: 0.0042 - 9s/epoch - 33ms/step\n",
      "Epoch 82/100\n",
      "268/268 - 9s - loss: 0.0045 - 9s/epoch - 33ms/step\n",
      "Epoch 83/100\n",
      "268/268 - 9s - loss: 0.0051 - 9s/epoch - 33ms/step\n",
      "Epoch 84/100\n",
      "268/268 - 9s - loss: 0.0044 - 9s/epoch - 33ms/step\n",
      "Epoch 85/100\n",
      "268/268 - 9s - loss: 0.0046 - 9s/epoch - 33ms/step\n",
      "Epoch 86/100\n",
      "268/268 - 9s - loss: 0.0042 - 9s/epoch - 34ms/step\n",
      "Epoch 87/100\n",
      "268/268 - 9s - loss: 0.0041 - 9s/epoch - 33ms/step\n",
      "Epoch 88/100\n",
      "268/268 - 9s - loss: 0.0045 - 9s/epoch - 33ms/step\n",
      "Epoch 89/100\n",
      "268/268 - 9s - loss: 0.0043 - 9s/epoch - 33ms/step\n",
      "Epoch 90/100\n",
      "268/268 - 9s - loss: 0.0045 - 9s/epoch - 33ms/step\n",
      "Epoch 91/100\n",
      "268/268 - 10s - loss: 0.0049 - 10s/epoch - 36ms/step\n",
      "Epoch 92/100\n",
      "268/268 - 9s - loss: 0.0048 - 9s/epoch - 35ms/step\n",
      "Epoch 93/100\n",
      "268/268 - 9s - loss: 0.0041 - 9s/epoch - 34ms/step\n",
      "Epoch 94/100\n",
      "268/268 - 9s - loss: 0.0044 - 9s/epoch - 33ms/step\n",
      "Epoch 95/100\n",
      "268/268 - 9s - loss: 0.0038 - 9s/epoch - 33ms/step\n",
      "Epoch 96/100\n",
      "268/268 - 9s - loss: 0.0046 - 9s/epoch - 33ms/step\n",
      "Epoch 97/100\n",
      "268/268 - 9s - loss: 0.0038 - 9s/epoch - 33ms/step\n",
      "Epoch 98/100\n",
      "268/268 - 9s - loss: 0.0037 - 9s/epoch - 34ms/step\n",
      "Epoch 99/100\n",
      "268/268 - 9s - loss: 0.0046 - 9s/epoch - 33ms/step\n",
      "Epoch 100/100\n",
      "268/268 - 9s - loss: 0.0037 - 9s/epoch - 33ms/step\n"
     ]
    },
    {
     "data": {
      "text/plain": [
       "<keras.callbacks.History at 0x246cdf41750>"
      ]
     },
     "execution_count": 6,
     "metadata": {},
     "output_type": "execute_result"
    }
   ],
   "source": [
    "reg = Sequential()\n",
    "reg.add(LSTM(units = 50,return_sequences=True,input_shape=(x_train.shape[1],1)))\n",
    "reg.add(Dropout(0.2))\n",
    "reg.add(LSTM(units = 50,return_sequences=True))\n",
    "reg.add(Dropout(0.2))\n",
    "reg.add(LSTM(units = 50,return_sequences=True))\n",
    "reg.add(Dropout(0.2))\n",
    "reg.add(LSTM(units=50))\n",
    "reg.add(Dropout(0.2))\n",
    "reg.add(Dense(units=1))\n",
    "reg.compile(optimizer = 'adam',loss='mean_squared_error')\n",
    "reg.fit(x_train,y_train, epochs=100, batch_size =1,verbose=2)"
   ]
  },
  {
   "cell_type": "code",
   "execution_count": 7,
   "id": "75531cfb",
   "metadata": {
    "scrolled": true
   },
   "outputs": [],
   "source": [
    "input = inputs[len(inputs)-len(test_set)-12:].values\n",
    "input.shape\n",
    "input = sc.transform(input)"
   ]
  },
  {
   "cell_type": "code",
   "execution_count": 8,
   "id": "388f635c",
   "metadata": {},
   "outputs": [
    {
     "data": {
      "text/plain": [
       "(28, 60, 1)"
      ]
     },
     "execution_count": 8,
     "metadata": {},
     "output_type": "execute_result"
    }
   ],
   "source": [
    "x_test = []\n",
    "for i in range(12,40):\n",
    "    x_test.append(input[i-12:i].flatten())\n",
    "x_test = np.array(x_test)\n",
    "x_test = np.reshape(x_test,(x_test.shape[0],x_test.shape[1],1))\n",
    "x_test.shape"
   ]
  },
  {
   "cell_type": "code",
   "execution_count": 12,
   "id": "29e71d55",
   "metadata": {},
   "outputs": [
    {
     "name": "stdout",
     "output_type": "stream",
     "text": [
      "1/1 [==============================] - 0s 50ms/step\n"
     ]
    },
    {
     "name": "stderr",
     "output_type": "stream",
     "text": [
      "<__array_function__ internals>:180: VisibleDeprecationWarning: Creating an ndarray from ragged nested sequences (which is a list-or-tuple of lists-or-tuples-or ndarrays with different lengths or shapes) is deprecated. If you meant to do this, you must specify 'dtype=object' when creating the ndarray.\n"
     ]
    },
    {
     "data": {
      "image/png": "[encoded data removed]",
      "text/plain": [
       "<Figure size 640x480 with 1 Axes>"
      ]
     },
     "metadata": {},
     "output_type": "display_data"
    }
   ],
   "source": [
    "pred = reg.predict(x_test)\n",
    "\n",
    "padded_pred = []\n",
    "for i in range(0,len(pred)):\n",
    "    padded_pred.append([0,pred[i],0,0,0])\n",
    "    \n",
    "padded_pred = sc.inverse_transform(padded_pred)\n",
    "\n",
    "new_pred = []\n",
    "for i in range(0,len(pred)):\n",
    "    new_pred.append(padded_pred[i][1])\n",
    "    \n",
    "new_test_set = []\n",
    "for i in range(0,len(pred)):\n",
    "    new_test_set.append(test_set[i][1])\n",
    "\n",
    "plt.plot(new_test_set,color='green')\n",
    "plt.plot(new_pred,color='red')\n",
    "plt.title('cpih')\n",
    "plt.show()"
   ]
  },
  {
   "cell_type": "code",
   "execution_count": 13,
   "id": "869777f9",
   "metadata": {},
   "outputs": [
    {
     "name": "stdout",
     "output_type": "stream",
     "text": [
      "9/9 [==============================] - 0s 23ms/step\n"
     ]
    },
    {
     "name": "stderr",
     "output_type": "stream",
     "text": [
      "<__array_function__ internals>:180: VisibleDeprecationWarning: Creating an ndarray from ragged nested sequences (which is a list-or-tuple of lists-or-tuples-or ndarrays with different lengths or shapes) is deprecated. If you meant to do this, you must specify 'dtype=object' when creating the ndarray.\n"
     ]
    },
    {
     "data": {
      "image/png": "[encoded data removed]",
      "text/plain": [
       "<Figure size 640x480 with 1 Axes>"
      ]
     },
     "metadata": {},
     "output_type": "display_data"
    }
   ],
   "source": [
    "pred = reg.predict(x_train)\n",
    "\n",
    "padded_pred = []\n",
    "for i in range(0,len(pred)):\n",
    "    padded_pred.append([0,pred[i],0,0,0])\n",
    "    \n",
    "padded_pred = sc.inverse_transform(padded_pred)\n",
    "\n",
    "new_pred = []\n",
    "for i in range(0,len(pred)):\n",
    "    new_pred.append(padded_pred[i][1])\n",
    "    \n",
    "new_test_set = []\n",
    "for i in range(0,len(pred)):\n",
    "    new_test_set.append(train_set[i][1])\n",
    "\n",
    "plt.plot(new_test_set,color='green')\n",
    "plt.plot(new_pred,color='red')\n",
    "plt.title('cpih')\n",
    "plt.show()"
   ]
  },
  {
   "cell_type": "code",
   "execution_count": null,
   "id": "a11eb9c7",
   "metadata": {},
   "outputs": [],
   "source": []
  },
  {
   "cell_type": "code",
   "execution_count": null,
   "id": "e4644b06",
   "metadata": {},
   "outputs": [],
   "source": []
  },
  {
   "cell_type": "code",
   "execution_count": null,
   "id": "01c11c60",
   "metadata": {},
   "outputs": [],
   "source": []
  }
 ],
 "metadata": {
  "kernelspec": {
   "display_name": "Python 3 (ipykernel)",
   "language": "python",
   "name": "python3"
  },
  "language_info": {
   "codemirror_mode": {
    "name": "ipython",
    "version": 3
   },
   "file_extension": ".py",
   "mimetype": "text/x-python",
   "name": "python",
   "nbconvert_exporter": "python",
   "pygments_lexer": "ipython3",
   "version": "3.10.5"
  }
 },
 "nbformat": 4,
 "nbformat_minor": 5
}
