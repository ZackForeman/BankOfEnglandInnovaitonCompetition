{
 "cells": [
  {
   "cell_type": "code",
   "execution_count": 1,
   "id": "d3d230e9",
   "metadata": {},
   "outputs": [],
   "source": [
    "import numpy as np\n",
    "import pandas as pd\n",
    "import matplotlib.pyplot as plt\n",
    "from sklearn.preprocessing import MinMaxScaler\n",
    "#for deep learning model\n",
    "from keras import Sequential\n",
    "from keras.layers import Dense\n",
    "from keras.layers import LSTM\n",
    "from keras.layers import Dropout"
   ]
  },
  {
   "cell_type": "code",
   "execution_count": 2,
   "id": "91a38041",
   "metadata": {},
   "outputs": [
    {
     "data": {
      "text/html": [
       "<div>\n",
       "<style scoped>\n",
       "    .dataframe tbody tr th:only-of-type {\n",
       "        vertical-align: middle;\n",
       "    }\n",
       "\n",
       "    .dataframe tbody tr th {\n",
       "        vertical-align: top;\n",
       "    }\n",
       "\n",
       "    .dataframe thead th {\n",
       "        text-align: right;\n",
       "    }\n",
       "</style>\n",
       "<table border=\"1\" class=\"dataframe\">\n",
       "  <thead>\n",
       "    <tr style=\"text-align: right;\">\n",
       "      <th></th>\n",
       "      <th>Title</th>\n",
       "      <th>CPIH ANNUAL RATE 00: ALL ITEMS 2015=100</th>\n",
       "    </tr>\n",
       "  </thead>\n",
       "  <tbody>\n",
       "    <tr>\n",
       "      <th>0</th>\n",
       "      <td>1989-01-01</td>\n",
       "      <td>5.7</td>\n",
       "    </tr>\n",
       "    <tr>\n",
       "      <th>1</th>\n",
       "      <td>1989-02-01</td>\n",
       "      <td>5.8</td>\n",
       "    </tr>\n",
       "    <tr>\n",
       "      <th>2</th>\n",
       "      <td>1989-03-01</td>\n",
       "      <td>5.9</td>\n",
       "    </tr>\n",
       "    <tr>\n",
       "      <th>3</th>\n",
       "      <td>1989-04-01</td>\n",
       "      <td>5.6</td>\n",
       "    </tr>\n",
       "    <tr>\n",
       "      <th>4</th>\n",
       "      <td>1989-05-01</td>\n",
       "      <td>5.9</td>\n",
       "    </tr>\n",
       "  </tbody>\n",
       "</table>\n",
       "</div>"
      ],
      "text/plain": [
       "        Title  CPIH ANNUAL RATE 00: ALL ITEMS 2015=100\n",
       "0  1989-01-01                                      5.7\n",
       "1  1989-02-01                                      5.8\n",
       "2  1989-03-01                                      5.9\n",
       "3  1989-04-01                                      5.6\n",
       "4  1989-05-01                                      5.9"
      ]
     },
     "execution_count": 2,
     "metadata": {},
     "output_type": "execute_result"
    }
   ],
   "source": [
    "df = pd.read_csv('cpih_copy.csv')\n",
    "df.shape\n",
    "df = df.reset_index(drop=True)\n",
    "df.head()"
   ]
  },
  {
   "cell_type": "code",
   "execution_count": 3,
   "id": "580e2e33",
   "metadata": {},
   "outputs": [
    {
     "name": "stdout",
     "output_type": "stream",
     "text": [
      "Train size:  (375, 1)\n",
      "Test size: (31, 1)\n"
     ]
    }
   ],
   "source": [
    "cpih = df.iloc[:,1:2]\n",
    "train_set = cpih[:375].values\n",
    "test_set = cpih[375:].values\n",
    "print(\"Train size: \",train_set.shape)\n",
    "print(\"Test size:\",test_set.shape)"
   ]
  },
  {
   "cell_type": "code",
   "execution_count": 4,
   "id": "96b60bdc",
   "metadata": {},
   "outputs": [],
   "source": [
    "#dates = pd.to_datetime(df['Title'])\n",
    "#plt.plot_date(dates, cpih,fmt='-')"
   ]
  },
  {
   "cell_type": "code",
   "execution_count": 5,
   "id": "eae43193",
   "metadata": {},
   "outputs": [],
   "source": [
    "sc = MinMaxScaler()\n",
    "train_set_scaled = sc.fit_transform(train_set)"
   ]
  },
  {
   "cell_type": "code",
   "execution_count": 6,
   "id": "5bdc715f",
   "metadata": {},
   "outputs": [
    {
     "data": {
      "text/plain": [
       "(369, 6, 1)"
      ]
     },
     "execution_count": 6,
     "metadata": {},
     "output_type": "execute_result"
    }
   ],
   "source": [
    "x_train = []\n",
    "y_train = []\n",
    "for i in range(6,375):\n",
    "    x_train.append(train_set_scaled[i-6:i,0])\n",
    "    y_train.append(train_set_scaled[i,0])\n",
    "x_train = np.array(x_train)\n",
    "y_train = np.array(y_train)\n",
    "x_train = np.reshape(x_train,(x_train.shape[0],x_train.shape[1],1))\n",
    "x_train.shape"
   ]
  },
  {
   "cell_type": "code",
   "execution_count": 7,
   "id": "b58b4564",
   "metadata": {},
   "outputs": [
    {
     "name": "stdout",
     "output_type": "stream",
     "text": [
      "Epoch 1/20\n",
      "369/369 - 8s - loss: 0.0181 - 8s/epoch - 23ms/step\n",
      "Epoch 2/20\n",
      "369/369 - 2s - loss: 0.0094 - 2s/epoch - 6ms/step\n",
      "Epoch 3/20\n",
      "369/369 - 2s - loss: 0.0081 - 2s/epoch - 6ms/step\n",
      "Epoch 4/20\n",
      "369/369 - 2s - loss: 0.0071 - 2s/epoch - 6ms/step\n",
      "Epoch 5/20\n",
      "369/369 - 2s - loss: 0.0078 - 2s/epoch - 6ms/step\n",
      "Epoch 6/20\n",
      "369/369 - 2s - loss: 0.0072 - 2s/epoch - 6ms/step\n",
      "Epoch 7/20\n",
      "369/369 - 2s - loss: 0.0057 - 2s/epoch - 6ms/step\n",
      "Epoch 8/20\n",
      "369/369 - 2s - loss: 0.0066 - 2s/epoch - 6ms/step\n",
      "Epoch 9/20\n",
      "369/369 - 2s - loss: 0.0060 - 2s/epoch - 6ms/step\n",
      "Epoch 10/20\n",
      "369/369 - 2s - loss: 0.0051 - 2s/epoch - 6ms/step\n",
      "Epoch 11/20\n",
      "369/369 - 2s - loss: 0.0093 - 2s/epoch - 6ms/step\n",
      "Epoch 12/20\n",
      "369/369 - 2s - loss: 0.0062 - 2s/epoch - 6ms/step\n",
      "Epoch 13/20\n",
      "369/369 - 2s - loss: 0.0053 - 2s/epoch - 6ms/step\n",
      "Epoch 14/20\n",
      "369/369 - 2s - loss: 0.0048 - 2s/epoch - 6ms/step\n",
      "Epoch 15/20\n",
      "369/369 - 2s - loss: 0.0054 - 2s/epoch - 6ms/step\n",
      "Epoch 16/20\n",
      "369/369 - 2s - loss: 0.0042 - 2s/epoch - 6ms/step\n",
      "Epoch 17/20\n",
      "369/369 - 2s - loss: 0.0042 - 2s/epoch - 6ms/step\n",
      "Epoch 18/20\n",
      "369/369 - 2s - loss: 0.0030 - 2s/epoch - 6ms/step\n",
      "Epoch 19/20\n",
      "369/369 - 2s - loss: 0.0059 - 2s/epoch - 6ms/step\n",
      "Epoch 20/20\n",
      "369/369 - 2s - loss: 0.0042 - 2s/epoch - 6ms/step\n"
     ]
    },
    {
     "data": {
      "text/plain": [
       "<keras.callbacks.History at 0x26402005d50>"
      ]
     },
     "execution_count": 7,
     "metadata": {},
     "output_type": "execute_result"
    }
   ],
   "source": [
    "reg = Sequential()\n",
    "reg.add(LSTM(units = 50,return_sequences=True,input_shape=(x_train.shape[1],1)))\n",
    "reg.add(Dropout(0.2))\n",
    "reg.add(LSTM(units = 50,return_sequences=True))\n",
    "reg.add(Dropout(0.2))\n",
    "reg.add(LSTM(units = 50,return_sequences=True))\n",
    "reg.add(Dropout(0.2))\n",
    "reg.add(LSTM(units=50))\n",
    "reg.add(Dropout(0.2))\n",
    "reg.add(Dense(units=1))\n",
    "reg.compile(optimizer = 'adam',loss='mean_squared_error')\n",
    "reg.fit(x_train,y_train, epochs=20, batch_size =1,verbose=2)"
   ]
  },
  {
   "cell_type": "code",
   "execution_count": 8,
   "id": "040c5ef4",
   "metadata": {},
   "outputs": [],
   "source": [
    "input = cpih[len(cpih)-len(test_set)-6:].values\n",
    "input.shape\n",
    "input = sc.transform(input)"
   ]
  },
  {
   "cell_type": "code",
   "execution_count": 9,
   "id": "892a6145",
   "metadata": {},
   "outputs": [
    {
     "data": {
      "text/plain": [
       "(31, 6, 1)"
      ]
     },
     "execution_count": 9,
     "metadata": {},
     "output_type": "execute_result"
    }
   ],
   "source": [
    "x_test = []\n",
    "for i in range(6,37):\n",
    "    x_test.append(input[i-6:i,0])\n",
    "x_test = np.array(x_test)\n",
    "x_test = np.reshape(x_test,(x_test.shape[0],x_test.shape[1],1))\n",
    "x_test.shape"
   ]
  },
  {
   "cell_type": "code",
   "execution_count": 11,
   "id": "0f84837f",
   "metadata": {},
   "outputs": [
    {
     "name": "stdout",
     "output_type": "stream",
     "text": [
      "1/1 [==============================] - 0s 31ms/step\n"
     ]
    },
    {
     "data": {
      "image/png": "[encoded data removed]",
      "text/plain": [
       "<Figure size 640x480 with 1 Axes>"
      ]
     },
     "metadata": {},
     "output_type": "display_data"
    }
   ],
   "source": [
    "pred = reg.predict(x_test)\n",
    "pred = sc.inverse_transform(pred)\n",
    "plt.plot(test_set,color='green')\n",
    "plt.plot(pred,color='red')\n",
    "plt.title('cpih')\n",
    "plt.show()"
   ]
  },
  {
   "cell_type": "code",
   "execution_count": null,
   "id": "b1ffbe9a",
   "metadata": {},
   "outputs": [],
   "source": []
  }
 ],
 "metadata": {
  "kernelspec": {
   "display_name": "Python 3 (ipykernel)",
   "language": "python",
   "name": "python3"
  },
  "language_info": {
   "codemirror_mode": {
    "name": "ipython",
    "version": 3
   },
   "file_extension": ".py",
   "mimetype": "text/x-python",
   "name": "python",
   "nbconvert_exporter": "python",
   "pygments_lexer": "ipython3",
   "version": "3.10.5"
  }
 },
 "nbformat": 4,
 "nbformat_minor": 5
}
